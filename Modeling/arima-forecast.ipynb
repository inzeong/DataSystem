{
 "cells": [
  {
   "cell_type": "code",
   "execution_count": 1,
   "id": "ef5a64f6",
   "metadata": {},
   "outputs": [
    {
     "name": "stderr",
     "output_type": "stream",
     "text": [
      "C:\\Users\\USER\\AppData\\Local\\Programs\\Python\\Python310\\lib\\site-packages\\statsmodels\\compat\\pandas.py:65: FutureWarning: pandas.Int64Index is deprecated and will be removed from pandas in a future version. Use pandas.Index with the appropriate dtype instead.\n",
      "  from pandas import Int64Index as NumericIndex\n"
     ]
    },
    {
     "data": {
      "text/html": [
       "        <script type=\"text/javascript\">\n",
       "        window.PlotlyConfig = {MathJaxConfig: 'local'};\n",
       "        if (window.MathJax) {MathJax.Hub.Config({SVG: {font: \"STIX-Web\"}});}\n",
       "        if (typeof require !== 'undefined') {\n",
       "        require.undef(\"plotly\");\n",
       "        requirejs.config({\n",
       "            paths: {\n",
       "                'plotly': ['https://cdn.plot.ly/plotly-2.8.3.min']\n",
       "            }\n",
       "        });\n",
       "        require(['plotly'], function(Plotly) {\n",
       "            window._Plotly = Plotly;\n",
       "        });\n",
       "        }\n",
       "        </script>\n",
       "        "
      ]
     },
     "metadata": {},
     "output_type": "display_data"
    }
   ],
   "source": [
    "import numpy as np\n",
    "import pandas as pd\n",
    "import seaborn as sns\n",
    "import matplotlib.pyplot as plt\n",
    "import statsmodels.api as sm\n",
    "from pmdarima.arima import ndiffs\n",
    "import pmdarima as pm\n",
    "from statsmodels.tsa.arima.model import ARIMA\n",
    "\n",
    "from plotly.offline import init_notebook_mode, iplot\n",
    "\n",
    "init_notebook_mode(connected=True)\n",
    "import plotly.graph_objs as go\n",
    "\n",
    "import os\n",
    "import warnings\n",
    "warnings.filterwarnings(\"ignore\")\n",
    "plt.style.use('ggplot')"
   ]
  },
  {
   "cell_type": "code",
   "execution_count": 2,
   "id": "34b5d609",
   "metadata": {},
   "outputs": [],
   "source": [
    "house_load_data = pd.read_csv(\"./etri_ess_house_data_220211/load_house_2022/house_load_55_2201.csv\")\n",
    "house_load_data.columns = ['tmp']\n",
    "house_load_data[['no', 'time', 'familyID','state','receivingAccumulatedActiveEnergy','sendingAccumulatedActiveEnergy','receivingActivePowery','sendingActivePower','voltage','current','date']] = pd.DataFrame(house_load_data.tmp.str.split(';',11).tolist())\n",
    "house_load_data.drop('tmp',axis=1,inplace=True)"
   ]
  },
  {
   "cell_type": "code",
   "execution_count": 3,
   "id": "bf7f2ffa",
   "metadata": {},
   "outputs": [],
   "source": [
    "house_load_data.drop('receivingActivePowery',axis=1,inplace=True)\n",
    "house_load_data.drop('sendingActivePower',axis=1,inplace=True)\n",
    "house_load_data.drop('sendingAccumulatedActiveEnergy',axis=1,inplace=True)\n",
    "house_load_data.drop('voltage',axis=1,inplace=True)\n",
    "house_load_data.drop('current',axis=1,inplace=True)"
   ]
  },
  {
   "cell_type": "code",
   "execution_count": 4,
   "id": "10236c49",
   "metadata": {},
   "outputs": [
    {
     "data": {
      "text/html": [
       "<div>\n",
       "<style scoped>\n",
       "    .dataframe tbody tr th:only-of-type {\n",
       "        vertical-align: middle;\n",
       "    }\n",
       "\n",
       "    .dataframe tbody tr th {\n",
       "        vertical-align: top;\n",
       "    }\n",
       "\n",
       "    .dataframe thead th {\n",
       "        text-align: right;\n",
       "    }\n",
       "</style>\n",
       "<table border=\"1\" class=\"dataframe\">\n",
       "  <thead>\n",
       "    <tr style=\"text-align: right;\">\n",
       "      <th></th>\n",
       "      <th>no</th>\n",
       "      <th>time</th>\n",
       "      <th>familyID</th>\n",
       "      <th>state</th>\n",
       "      <th>receivingAccumulatedActiveEnergy</th>\n",
       "      <th>date</th>\n",
       "    </tr>\n",
       "  </thead>\n",
       "  <tbody>\n",
       "    <tr>\n",
       "      <th>0</th>\n",
       "      <td>136289650</td>\n",
       "      <td>2022-01-06 12:56:59</td>\n",
       "      <td>55</td>\n",
       "      <td>N</td>\n",
       "      <td>957420</td>\n",
       "      <td>2022-01-06 12:56:59</td>\n",
       "    </tr>\n",
       "    <tr>\n",
       "      <th>1</th>\n",
       "      <td>136289691</td>\n",
       "      <td>2022-01-06 12:57:08</td>\n",
       "      <td>55</td>\n",
       "      <td>N</td>\n",
       "      <td>957420</td>\n",
       "      <td>2022-01-06 12:57:08</td>\n",
       "    </tr>\n",
       "    <tr>\n",
       "      <th>2</th>\n",
       "      <td>136291190</td>\n",
       "      <td>2022-01-06 13:02:26</td>\n",
       "      <td>55</td>\n",
       "      <td>N</td>\n",
       "      <td>957420</td>\n",
       "      <td>2022-01-06 13:02:26</td>\n",
       "    </tr>\n",
       "    <tr>\n",
       "      <th>3</th>\n",
       "      <td>136291462</td>\n",
       "      <td>2022-01-06 13:03:22</td>\n",
       "      <td>55</td>\n",
       "      <td>N</td>\n",
       "      <td>957420</td>\n",
       "      <td>2022-01-06 13:03:22</td>\n",
       "    </tr>\n",
       "    <tr>\n",
       "      <th>4</th>\n",
       "      <td>136293502</td>\n",
       "      <td>2022-01-06 13:10:24</td>\n",
       "      <td>55</td>\n",
       "      <td>N</td>\n",
       "      <td>957420</td>\n",
       "      <td>2022-01-06 13:10:24</td>\n",
       "    </tr>\n",
       "  </tbody>\n",
       "</table>\n",
       "</div>"
      ],
      "text/plain": [
       "          no                 time familyID state  \\\n",
       "0  136289650  2022-01-06 12:56:59       55     N   \n",
       "1  136289691  2022-01-06 12:57:08       55     N   \n",
       "2  136291190  2022-01-06 13:02:26       55     N   \n",
       "3  136291462  2022-01-06 13:03:22       55     N   \n",
       "4  136293502  2022-01-06 13:10:24       55     N   \n",
       "\n",
       "  receivingAccumulatedActiveEnergy                 date  \n",
       "0                           957420  2022-01-06 12:56:59  \n",
       "1                           957420  2022-01-06 12:57:08  \n",
       "2                           957420  2022-01-06 13:02:26  \n",
       "3                           957420  2022-01-06 13:03:22  \n",
       "4                           957420  2022-01-06 13:10:24  "
      ]
     },
     "execution_count": 4,
     "metadata": {},
     "output_type": "execute_result"
    }
   ],
   "source": [
    "house_load_data.head(5)"
   ]
  },
  {
   "cell_type": "code",
   "execution_count": 5,
   "id": "a5edf49c",
   "metadata": {},
   "outputs": [],
   "source": [
    "#시계열 분해법으로 분해(시계열 형태의 ts 데이터 생성)\n",
    "timeSeries = house_load_data.loc[:,[\"date\",\"time\",\"receivingAccumulatedActiveEnergy\"]]\n",
    "timeSeries.index = pd.to_datetime(timeSeries.time)\n",
    "ts = timeSeries.drop(\"time\", axis=1)"
   ]
  },
  {
   "cell_type": "code",
   "execution_count": 6,
   "id": "1e1655f8",
   "metadata": {},
   "outputs": [
    {
     "data": {
      "text/html": [
       "<div>\n",
       "<style scoped>\n",
       "    .dataframe tbody tr th:only-of-type {\n",
       "        vertical-align: middle;\n",
       "    }\n",
       "\n",
       "    .dataframe tbody tr th {\n",
       "        vertical-align: top;\n",
       "    }\n",
       "\n",
       "    .dataframe thead th {\n",
       "        text-align: right;\n",
       "    }\n",
       "</style>\n",
       "<table border=\"1\" class=\"dataframe\">\n",
       "  <thead>\n",
       "    <tr style=\"text-align: right;\">\n",
       "      <th></th>\n",
       "      <th>power_1h_first</th>\n",
       "      <th>power_1h_last</th>\n",
       "    </tr>\n",
       "    <tr>\n",
       "      <th>time</th>\n",
       "      <th></th>\n",
       "      <th></th>\n",
       "    </tr>\n",
       "  </thead>\n",
       "  <tbody>\n",
       "    <tr>\n",
       "      <th>2022-01-06 12:00:00</th>\n",
       "      <td>957420</td>\n",
       "      <td>957420</td>\n",
       "    </tr>\n",
       "    <tr>\n",
       "      <th>2022-01-06 13:00:00</th>\n",
       "      <td>957420</td>\n",
       "      <td>957420</td>\n",
       "    </tr>\n",
       "    <tr>\n",
       "      <th>2022-01-06 14:00:00</th>\n",
       "      <td>957420</td>\n",
       "      <td>957570</td>\n",
       "    </tr>\n",
       "    <tr>\n",
       "      <th>2022-01-06 15:00:00</th>\n",
       "      <td>957570</td>\n",
       "      <td>957980</td>\n",
       "    </tr>\n",
       "    <tr>\n",
       "      <th>2022-01-06 16:00:00</th>\n",
       "      <td>958390</td>\n",
       "      <td>958860</td>\n",
       "    </tr>\n",
       "    <tr>\n",
       "      <th>...</th>\n",
       "      <td>...</td>\n",
       "      <td>...</td>\n",
       "    </tr>\n",
       "    <tr>\n",
       "      <th>2022-01-21 16:00:00</th>\n",
       "      <td>1161940</td>\n",
       "      <td>1162850</td>\n",
       "    </tr>\n",
       "    <tr>\n",
       "      <th>2022-01-21 17:00:00</th>\n",
       "      <td>1162850</td>\n",
       "      <td>1164130</td>\n",
       "    </tr>\n",
       "    <tr>\n",
       "      <th>2022-01-21 18:00:00</th>\n",
       "      <td>1164220</td>\n",
       "      <td>1165390</td>\n",
       "    </tr>\n",
       "    <tr>\n",
       "      <th>2022-01-21 19:00:00</th>\n",
       "      <td>1165390</td>\n",
       "      <td>1166190</td>\n",
       "    </tr>\n",
       "    <tr>\n",
       "      <th>2022-01-21 20:00:00</th>\n",
       "      <td>1166190</td>\n",
       "      <td>1166400</td>\n",
       "    </tr>\n",
       "  </tbody>\n",
       "</table>\n",
       "<p>369 rows × 2 columns</p>\n",
       "</div>"
      ],
      "text/plain": [
       "                    power_1h_first power_1h_last\n",
       "time                                            \n",
       "2022-01-06 12:00:00         957420        957420\n",
       "2022-01-06 13:00:00         957420        957420\n",
       "2022-01-06 14:00:00         957420        957570\n",
       "2022-01-06 15:00:00         957570        957980\n",
       "2022-01-06 16:00:00         958390        958860\n",
       "...                            ...           ...\n",
       "2022-01-21 16:00:00        1161940       1162850\n",
       "2022-01-21 17:00:00        1162850       1164130\n",
       "2022-01-21 18:00:00        1164220       1165390\n",
       "2022-01-21 19:00:00        1165390       1166190\n",
       "2022-01-21 20:00:00        1166190       1166400\n",
       "\n",
       "[369 rows x 2 columns]"
      ]
     },
     "execution_count": 6,
     "metadata": {},
     "output_type": "execute_result"
    }
   ],
   "source": [
    "df_summary = pd.DataFrame()\n",
    "\n",
    "df_summary['power_1h_first'] = ts.receivingAccumulatedActiveEnergy.resample('1H').first()\n",
    "df_summary['power_1h_last'] = ts.receivingAccumulatedActiveEnergy.resample('1H').last()\n",
    "\n",
    "df_summary"
   ]
  },
  {
   "cell_type": "code",
   "execution_count": 7,
   "id": "97568377",
   "metadata": {},
   "outputs": [],
   "source": [
    "df_summary.fillna(method='ffill', inplace=True)"
   ]
  },
  {
   "cell_type": "code",
   "execution_count": 8,
   "id": "485d104a",
   "metadata": {},
   "outputs": [
    {
     "data": {
      "text/html": [
       "<div>\n",
       "<style scoped>\n",
       "    .dataframe tbody tr th:only-of-type {\n",
       "        vertical-align: middle;\n",
       "    }\n",
       "\n",
       "    .dataframe tbody tr th {\n",
       "        vertical-align: top;\n",
       "    }\n",
       "\n",
       "    .dataframe thead th {\n",
       "        text-align: right;\n",
       "    }\n",
       "</style>\n",
       "<table border=\"1\" class=\"dataframe\">\n",
       "  <thead>\n",
       "    <tr style=\"text-align: right;\">\n",
       "      <th></th>\n",
       "      <th>power_1h_first</th>\n",
       "      <th>power_1h_last</th>\n",
       "      <th>power</th>\n",
       "    </tr>\n",
       "    <tr>\n",
       "      <th>time</th>\n",
       "      <th></th>\n",
       "      <th></th>\n",
       "      <th></th>\n",
       "    </tr>\n",
       "  </thead>\n",
       "  <tbody>\n",
       "    <tr>\n",
       "      <th>2022-01-06 12:00:00</th>\n",
       "      <td>957420</td>\n",
       "      <td>957420</td>\n",
       "      <td>0.0</td>\n",
       "    </tr>\n",
       "    <tr>\n",
       "      <th>2022-01-06 13:00:00</th>\n",
       "      <td>957420</td>\n",
       "      <td>957420</td>\n",
       "      <td>0.0</td>\n",
       "    </tr>\n",
       "    <tr>\n",
       "      <th>2022-01-06 14:00:00</th>\n",
       "      <td>957420</td>\n",
       "      <td>957570</td>\n",
       "      <td>150.0</td>\n",
       "    </tr>\n",
       "    <tr>\n",
       "      <th>2022-01-06 15:00:00</th>\n",
       "      <td>957570</td>\n",
       "      <td>957980</td>\n",
       "      <td>410.0</td>\n",
       "    </tr>\n",
       "    <tr>\n",
       "      <th>2022-01-06 16:00:00</th>\n",
       "      <td>958390</td>\n",
       "      <td>958860</td>\n",
       "      <td>470.0</td>\n",
       "    </tr>\n",
       "    <tr>\n",
       "      <th>...</th>\n",
       "      <td>...</td>\n",
       "      <td>...</td>\n",
       "      <td>...</td>\n",
       "    </tr>\n",
       "    <tr>\n",
       "      <th>2022-01-21 16:00:00</th>\n",
       "      <td>1161940</td>\n",
       "      <td>1162850</td>\n",
       "      <td>910.0</td>\n",
       "    </tr>\n",
       "    <tr>\n",
       "      <th>2022-01-21 17:00:00</th>\n",
       "      <td>1162850</td>\n",
       "      <td>1164130</td>\n",
       "      <td>1280.0</td>\n",
       "    </tr>\n",
       "    <tr>\n",
       "      <th>2022-01-21 18:00:00</th>\n",
       "      <td>1164220</td>\n",
       "      <td>1165390</td>\n",
       "      <td>1170.0</td>\n",
       "    </tr>\n",
       "    <tr>\n",
       "      <th>2022-01-21 19:00:00</th>\n",
       "      <td>1165390</td>\n",
       "      <td>1166190</td>\n",
       "      <td>800.0</td>\n",
       "    </tr>\n",
       "    <tr>\n",
       "      <th>2022-01-21 20:00:00</th>\n",
       "      <td>1166190</td>\n",
       "      <td>1166400</td>\n",
       "      <td>210.0</td>\n",
       "    </tr>\n",
       "  </tbody>\n",
       "</table>\n",
       "<p>369 rows × 3 columns</p>\n",
       "</div>"
      ],
      "text/plain": [
       "                    power_1h_first power_1h_last   power\n",
       "time                                                    \n",
       "2022-01-06 12:00:00         957420        957420     0.0\n",
       "2022-01-06 13:00:00         957420        957420     0.0\n",
       "2022-01-06 14:00:00         957420        957570   150.0\n",
       "2022-01-06 15:00:00         957570        957980   410.0\n",
       "2022-01-06 16:00:00         958390        958860   470.0\n",
       "...                            ...           ...     ...\n",
       "2022-01-21 16:00:00        1161940       1162850   910.0\n",
       "2022-01-21 17:00:00        1162850       1164130  1280.0\n",
       "2022-01-21 18:00:00        1164220       1165390  1170.0\n",
       "2022-01-21 19:00:00        1165390       1166190   800.0\n",
       "2022-01-21 20:00:00        1166190       1166400   210.0\n",
       "\n",
       "[369 rows x 3 columns]"
      ]
     },
     "execution_count": 8,
     "metadata": {},
     "output_type": "execute_result"
    }
   ],
   "source": [
    "df_summary['power'] = df_summary['power_1h_last'].astype(float)- df_summary['power_1h_first'].astype(float)\n",
    "df_summary"
   ]
  },
  {
   "cell_type": "code",
   "execution_count": 9,
   "id": "3a5a60a2",
   "metadata": {},
   "outputs": [],
   "source": [
    "df_summary['date'] = df_summary.index"
   ]
  },
  {
   "cell_type": "code",
   "execution_count": 10,
   "id": "0fc93fe4",
   "metadata": {},
   "outputs": [
    {
     "data": {
      "text/plain": [
       "<AxesSubplot:xlabel='time'>"
      ]
     },
     "execution_count": 10,
     "metadata": {},
     "output_type": "execute_result"
    },
    {
     "data": {
      "image/png": "[encoded data removed]",
      "text/plain": [
       "<Figure size 432x288 with 1 Axes>"
      ]
     },
     "metadata": {},
     "output_type": "display_data"
    }
   ],
   "source": [
    "y_train = df_summary['power'][:int(0.7*len(df_summary))+1]\n",
    "y_test = df_summary['power'][int(0.7*len(df_summary)):]\n",
    "y_train.plot()\n",
    "y_test.plot()"
   ]
  },
  {
   "cell_type": "code",
   "execution_count": 11,
   "id": "a35e6067",
   "metadata": {},
   "outputs": [
    {
     "name": "stdout",
     "output_type": "stream",
     "text": [
      "추정된 차수 d = 0\n"
     ]
    }
   ],
   "source": [
    "#최선 차분 수 파악\n",
    "kpss_diffs = ndiffs(y_train, alpha=0.05, test='kpss', max_d=6)\n",
    "adf_diffs = ndiffs(y_train, alpha=0.05, test='adf', max_d=6)\n",
    "n_diffs = max(adf_diffs, kpss_diffs)\n",
    "\n",
    "print(f\"추정된 차수 d = {n_diffs}\")"
   ]
  },
  {
   "cell_type": "code",
   "execution_count": 12,
   "id": "aad4ec0a",
   "metadata": {},
   "outputs": [
    {
     "name": "stdout",
     "output_type": "stream",
     "text": [
      "Performing stepwise search to minimize aic\n",
      " ARIMA(0,0,0)(0,0,0)[0] intercept   : AIC=3722.578, Time=0.05 sec\n",
      " ARIMA(1,0,0)(0,0,0)[0] intercept   : AIC=3613.243, Time=0.03 sec\n",
      " ARIMA(0,0,1)(0,0,0)[0] intercept   : AIC=3656.875, Time=0.15 sec\n",
      " ARIMA(0,0,0)(0,0,0)[0]             : AIC=4072.494, Time=0.01 sec\n",
      " ARIMA(2,0,0)(0,0,0)[0] intercept   : AIC=3608.843, Time=0.11 sec\n",
      " ARIMA(3,0,0)(0,0,0)[0] intercept   : AIC=3607.095, Time=0.07 sec\n",
      " ARIMA(3,0,1)(0,0,0)[0] intercept   : AIC=3609.062, Time=0.15 sec\n",
      " ARIMA(2,0,1)(0,0,0)[0] intercept   : AIC=3609.050, Time=0.09 sec\n",
      " ARIMA(3,0,0)(0,0,0)[0]             : AIC=3637.493, Time=0.05 sec\n",
      "\n",
      "Best model:  ARIMA(3,0,0)(0,0,0)[0] intercept\n",
      "Total fit time: 0.701 seconds\n"
     ]
    }
   ],
   "source": [
    "model = pm.auto_arima(y = y_train, max_d=2,start_p=0,\n",
    "                     max_p = 3,\n",
    "                     start_q = 0,\n",
    "                     max_q = 3,\n",
    "                     seasonal = True,\n",
    "                     stepwise = True,\n",
    "                     trace = True)"
   ]
  },
  {
   "cell_type": "code",
   "execution_count": 13,
   "id": "95ad9f12",
   "metadata": {},
   "outputs": [
    {
     "data": {
      "text/plain": [
       "ARIMA(order=(3, 0, 0), scoring_args={}, suppress_warnings=True)"
      ]
     },
     "execution_count": 13,
     "metadata": {},
     "output_type": "execute_result"
    }
   ],
   "source": [
    "model.fit(y_train)"
   ]
  },
  {
   "cell_type": "code",
   "execution_count": 14,
   "id": "9dd49034",
   "metadata": {},
   "outputs": [
    {
     "name": "stdout",
     "output_type": "stream",
     "text": [
      "                               SARIMAX Results                                \n",
      "==============================================================================\n",
      "Dep. Variable:                      y   No. Observations:                  259\n",
      "Model:               SARIMAX(3, 0, 0)   Log Likelihood               -1798.548\n",
      "Date:                Wed, 23 Feb 2022   AIC                           3607.095\n",
      "Time:                        11:00:05   BIC                           3624.879\n",
      "Sample:                             0   HQIC                          3614.246\n",
      "                                - 259                                         \n",
      "Covariance Type:                  opg                                         \n",
      "==============================================================================\n",
      "                 coef    std err          z      P>|z|      [0.025      0.975]\n",
      "------------------------------------------------------------------------------\n",
      "intercept    216.0004     41.941      5.150      0.000     133.798     298.203\n",
      "ar.L1          0.5156      0.053      9.740      0.000       0.412       0.619\n",
      "ar.L2          0.2128      0.065      3.256      0.001       0.085       0.341\n",
      "ar.L3         -0.1262      0.068     -1.856      0.063      -0.259       0.007\n",
      "sigma2      6.265e+04   4591.549     13.645      0.000    5.37e+04    7.16e+04\n",
      "===================================================================================\n",
      "Ljung-Box (L1) (Q):                   0.01   Jarque-Bera (JB):                32.74\n",
      "Prob(Q):                              0.91   Prob(JB):                         0.00\n",
      "Heteroskedasticity (H):               0.87   Skew:                             0.57\n",
      "Prob(H) (two-sided):                  0.51   Kurtosis:                         4.31\n",
      "===================================================================================\n",
      "\n",
      "Warnings:\n",
      "[1] Covariance matrix calculated using the outer product of gradients (complex-step).\n"
     ]
    }
   ],
   "source": [
    "print(model.summary())"
   ]
  },
  {
   "cell_type": "code",
   "execution_count": 15,
   "id": "c61b551d",
   "metadata": {},
   "outputs": [
    {
     "data": {
      "image/png": "[encoded data removed]",
      "text/plain": [
       "<Figure size 1152x576 with 4 Axes>"
      ]
     },
     "metadata": {},
     "output_type": "display_data"
    }
   ],
   "source": [
    "model.plot_diagnostics(figsize=(16,8))\n",
    "plt.show()"
   ]
  },
  {
   "cell_type": "code",
   "execution_count": 16,
   "id": "9e493b11",
   "metadata": {},
   "outputs": [
    {
     "data": {
      "image/png": "[encoded data removed]",
      "text/plain": [
       "<Figure size 864x288 with 1 Axes>"
      ]
     },
     "metadata": {},
     "output_type": "display_data"
    }
   ],
   "source": [
    "#테스트 데이터 개수만큼 예측\n",
    "y_predict = model.predict(n_periods=len(y_test))\n",
    "y_predict = pd.DataFrame(y_predict,index = y_test.index,columns=['Prediction'])\n",
    "\n",
    "#그래프\n",
    "fig, axes = plt.subplots(1,1,figsize= (12,4))\n",
    "plt.plot(y_train, label='Train')\n",
    "plt.plot(y_test, label='Test')\n",
    "plt.plot(y_predict, label='Prediction')\n",
    "plt.legend()\n",
    "plt.show()"
   ]
  },
  {
   "cell_type": "code",
   "execution_count": 17,
   "id": "ec2737ac",
   "metadata": {},
   "outputs": [],
   "source": [
    "def forecast_one_step():\n",
    "    fc, conf_int = model.predict(n_periods=1 # 한 스텝씩!\n",
    "        , return_conf_int=True)              # 신뢰구간 출력\n",
    "    return (\n",
    "        fc.tolist()[0],\n",
    "        np.asarray(conf_int).tolist()[0]\n",
    "    )"
   ]
  },
  {
   "cell_type": "code",
   "execution_count": 18,
   "id": "013acd69",
   "metadata": {},
   "outputs": [
    {
     "data": {
      "text/plain": [
       "(array([734.53346694]), array([[ 243.95595259, 1225.11098128]]))"
      ]
     },
     "execution_count": 18,
     "metadata": {},
     "output_type": "execute_result"
    }
   ],
   "source": [
    "model.predict(n_periods=1, return_conf_int=True)"
   ]
  },
  {
   "cell_type": "code",
   "execution_count": 19,
   "id": "f3f1056d",
   "metadata": {},
   "outputs": [],
   "source": [
    "forecasts = []\n",
    "y_pred = []\n",
    "pred_upper = []\n",
    "pred_lower = []\n",
    "\n",
    "for new_ob in y_test:\n",
    "    fc, conf = forecast_one_step()\n",
    "    y_pred.append(fc)\n",
    "    pred_upper.append(conf[1])\n",
    "    pred_lower.append(conf[0])\n",
    "    \n",
    "    #Update Model\n",
    "    model.update(new_ob)"
   ]
  },
  {
   "cell_type": "code",
   "execution_count": 20,
   "id": "3596b8b8",
   "metadata": {},
   "outputs": [
    {
     "data": {
      "text/html": [
       "<div>\n",
       "<style scoped>\n",
       "    .dataframe tbody tr th:only-of-type {\n",
       "        vertical-align: middle;\n",
       "    }\n",
       "\n",
       "    .dataframe tbody tr th {\n",
       "        vertical-align: top;\n",
       "    }\n",
       "\n",
       "    .dataframe thead th {\n",
       "        text-align: right;\n",
       "    }\n",
       "</style>\n",
       "<table border=\"1\" class=\"dataframe\">\n",
       "  <thead>\n",
       "    <tr style=\"text-align: right;\">\n",
       "      <th></th>\n",
       "      <th>test</th>\n",
       "      <th>pred</th>\n",
       "    </tr>\n",
       "    <tr>\n",
       "      <th>time</th>\n",
       "      <th></th>\n",
       "      <th></th>\n",
       "    </tr>\n",
       "  </thead>\n",
       "  <tbody>\n",
       "    <tr>\n",
       "      <th>2022-01-17 06:00:00</th>\n",
       "      <td>870.0</td>\n",
       "      <td>734.533467</td>\n",
       "    </tr>\n",
       "    <tr>\n",
       "      <th>2022-01-17 07:00:00</th>\n",
       "      <td>670.0</td>\n",
       "      <td>759.882828</td>\n",
       "    </tr>\n",
       "    <tr>\n",
       "      <th>2022-01-17 08:00:00</th>\n",
       "      <td>450.0</td>\n",
       "      <td>636.869930</td>\n",
       "    </tr>\n",
       "    <tr>\n",
       "      <th>2022-01-17 09:00:00</th>\n",
       "      <td>0.0</td>\n",
       "      <td>479.205956</td>\n",
       "    </tr>\n",
       "    <tr>\n",
       "      <th>2022-01-17 10:00:00</th>\n",
       "      <td>0.0</td>\n",
       "      <td>219.380260</td>\n",
       "    </tr>\n",
       "    <tr>\n",
       "      <th>...</th>\n",
       "      <td>...</td>\n",
       "      <td>...</td>\n",
       "    </tr>\n",
       "    <tr>\n",
       "      <th>2022-01-21 16:00:00</th>\n",
       "      <td>910.0</td>\n",
       "      <td>334.614503</td>\n",
       "    </tr>\n",
       "    <tr>\n",
       "      <th>2022-01-21 17:00:00</th>\n",
       "      <td>1280.0</td>\n",
       "      <td>745.478041</td>\n",
       "    </tr>\n",
       "    <tr>\n",
       "      <th>2022-01-21 18:00:00</th>\n",
       "      <td>1170.0</td>\n",
       "      <td>1109.616074</td>\n",
       "    </tr>\n",
       "    <tr>\n",
       "      <th>2022-01-21 19:00:00</th>\n",
       "      <td>800.0</td>\n",
       "      <td>1006.502376</td>\n",
       "    </tr>\n",
       "    <tr>\n",
       "      <th>2022-01-21 20:00:00</th>\n",
       "      <td>210.0</td>\n",
       "      <td>699.280122</td>\n",
       "    </tr>\n",
       "  </tbody>\n",
       "</table>\n",
       "<p>111 rows × 2 columns</p>\n",
       "</div>"
      ],
      "text/plain": [
       "                       test         pred\n",
       "time                                    \n",
       "2022-01-17 06:00:00   870.0   734.533467\n",
       "2022-01-17 07:00:00   670.0   759.882828\n",
       "2022-01-17 08:00:00   450.0   636.869930\n",
       "2022-01-17 09:00:00     0.0   479.205956\n",
       "2022-01-17 10:00:00     0.0   219.380260\n",
       "...                     ...          ...\n",
       "2022-01-21 16:00:00   910.0   334.614503\n",
       "2022-01-21 17:00:00  1280.0   745.478041\n",
       "2022-01-21 18:00:00  1170.0  1109.616074\n",
       "2022-01-21 19:00:00   800.0  1006.502376\n",
       "2022-01-21 20:00:00   210.0   699.280122\n",
       "\n",
       "[111 rows x 2 columns]"
      ]
     },
     "execution_count": 20,
     "metadata": {},
     "output_type": "execute_result"
    }
   ],
   "source": [
    "pd.DataFrame({\"test\" : y_test, \"pred\": y_pred})"
   ]
  },
  {
   "cell_type": "code",
   "execution_count": 21,
   "id": "097ecd01",
   "metadata": {},
   "outputs": [
    {
     "name": "stdout",
     "output_type": "stream",
     "text": [
      "                               SARIMAX Results                                \n",
      "==============================================================================\n",
      "Dep. Variable:                      y   No. Observations:                  370\n",
      "Model:               SARIMAX(3, 0, 0)   Log Likelihood               -2589.820\n",
      "Date:                Wed, 23 Feb 2022   AIC                           5189.640\n",
      "Time:                        11:00:14   BIC                           5209.208\n",
      "Sample:                             0   HQIC                          5197.412\n",
      "                                - 370                                         \n",
      "Covariance Type:                  opg                                         \n",
      "==============================================================================\n",
      "                 coef    std err          z      P>|z|      [0.025      0.975]\n",
      "------------------------------------------------------------------------------\n",
      "intercept    216.0090     31.253      6.912      0.000     154.754     277.264\n",
      "ar.L1          0.5629      0.036     15.666      0.000       0.492       0.633\n",
      "ar.L2          0.2399      0.049      4.919      0.000       0.144       0.336\n",
      "ar.L3         -0.1991      0.048     -4.128      0.000      -0.294      -0.105\n",
      "sigma2      6.297e+04   3206.861     19.636      0.000    5.67e+04    6.93e+04\n",
      "===================================================================================\n",
      "Ljung-Box (L1) (Q):                   0.16   Jarque-Bera (JB):               107.24\n",
      "Prob(Q):                              0.68   Prob(JB):                         0.00\n",
      "Heteroskedasticity (H):               1.35   Skew:                             0.74\n",
      "Prob(H) (two-sided):                  0.10   Kurtosis:                         5.18\n",
      "===================================================================================\n",
      "\n",
      "Warnings:\n",
      "[1] Covariance matrix calculated using the outer product of gradients (complex-step).\n"
     ]
    }
   ],
   "source": [
    "print(model.summary())"
   ]
  },
  {
   "cell_type": "code",
   "execution_count": 22,
   "id": "f3fee792",
   "metadata": {},
   "outputs": [
    {
     "data": {
      "application/vnd.plotly.v1+json": {
       "config": {
        "plotlyServerURL": "https://plot.ly"
       },
       "data": [
        {
         "line": {
          "color": "royalblue"
         },
         "mode": "lines",
         "name": "Train",
         "type": "scatter",
         "x": [
          "2022-01-06T12:00:00",
          "2022-01-06T13:00:00",
          "2022-01-06T14:00:00",
          "2022-01-06T15:00:00",
          "2022-01-06T16:00:00",
          "2022-01-06T17:00:00",
          "2022-01-06T18:00:00",
          "2022-01-06T19:00:00",
          "2022-01-06T20:00:00",
          "2022-01-06T21:00:00",
          "2022-01-06T22:00:00",
          "2022-01-06T23:00:00",
          "2022-01-07T00:00:00",
          "2022-01-07T01:00:00",
          "2022-01-07T02:00:00",
          "2022-01-07T03:00:00",
          "2022-01-07T04:00:00",
          "2022-01-07T05:00:00",
          "2022-01-07T06:00:00",
          "2022-01-07T07:00:00",
          "2022-01-07T08:00:00",
          "2022-01-07T09:00:00",
          "2022-01-07T10:00:00",
          "2022-01-07T11:00:00",
          "2022-01-07T12:00:00",
          "2022-01-07T13:00:00",
          "2022-01-07T14:00:00",
          "2022-01-07T15:00:00",
          "2022-01-07T16:00:00",
          "2022-01-07T17:00:00",
          "2022-01-07T18:00:00",
          "2022-01-07T19:00:00",
          "2022-01-07T20:00:00",
          "2022-01-07T21:00:00",
          "2022-01-07T22:00:00",
          "2022-01-07T23:00:00",
          "2022-01-08T00:00:00",
          "2022-01-08T01:00:00",
          "2022-01-08T02:00:00",
          "2022-01-08T03:00:00",
          "2022-01-08T04:00:00",
          "2022-01-08T05:00:00",
          "2022-01-08T06:00:00",
          "2022-01-08T07:00:00",
          "2022-01-08T08:00:00",
          "2022-01-08T09:00:00",
          "2022-01-08T10:00:00",
          "2022-01-08T11:00:00",
          "2022-01-08T12:00:00",
          "2022-01-08T13:00:00",
          "2022-01-08T14:00:00",
          "2022-01-08T15:00:00",
          "2022-01-08T16:00:00",
          "2022-01-08T17:00:00",
          "2022-01-08T18:00:00",
          "2022-01-08T19:00:00",
          "2022-01-08T20:00:00",
          "2022-01-08T21:00:00",
          "2022-01-08T22:00:00",
          "2022-01-08T23:00:00",
          "2022-01-09T00:00:00",
          "2022-01-09T01:00:00",
          "2022-01-09T02:00:00",
          "2022-01-09T03:00:00",
          "2022-01-09T04:00:00",
          "2022-01-09T05:00:00",
          "2022-01-09T06:00:00",
          "2022-01-09T07:00:00",
          "2022-01-09T08:00:00",
          "2022-01-09T09:00:00",
          "2022-01-09T10:00:00",
          "2022-01-09T11:00:00",
          "2022-01-09T12:00:00",
          "2022-01-09T13:00:00",
          "2022-01-09T14:00:00",
          "2022-01-09T15:00:00",
          "2022-01-09T16:00:00",
          "2022-01-09T17:00:00",
          "2022-01-09T18:00:00",
          "2022-01-09T19:00:00",
          "2022-01-09T20:00:00",
          "2022-01-09T21:00:00",
          "2022-01-09T22:00:00",
          "2022-01-09T23:00:00",
          "2022-01-10T00:00:00",
          "2022-01-10T01:00:00",
          "2022-01-10T02:00:00",
          "2022-01-10T03:00:00",
          "2022-01-10T04:00:00",
          "2022-01-10T05:00:00",
          "2022-01-10T06:00:00",
          "2022-01-10T07:00:00",
          "2022-01-10T08:00:00",
          "2022-01-10T09:00:00",
          "2022-01-10T10:00:00",
          "2022-01-10T11:00:00",
          "2022-01-10T12:00:00",
          "2022-01-10T13:00:00",
          "2022-01-10T14:00:00",
          "2022-01-10T15:00:00",
          "2022-01-10T16:00:00",
          "2022-01-10T17:00:00",
          "2022-01-10T18:00:00",
          "2022-01-10T19:00:00",
          "2022-01-10T20:00:00",
          "2022-01-10T21:00:00",
          "2022-01-10T22:00:00",
          "2022-01-10T23:00:00",
          "2022-01-11T00:00:00",
          "2022-01-11T01:00:00",
          "2022-01-11T02:00:00",
          "2022-01-11T03:00:00",
          "2022-01-11T04:00:00",
          "2022-01-11T05:00:00",
          "2022-01-11T06:00:00",
          "2022-01-11T07:00:00",
          "2022-01-11T08:00:00",
          "2022-01-11T09:00:00",
          "2022-01-11T10:00:00",
          "2022-01-11T11:00:00",
          "2022-01-11T12:00:00",
          "2022-01-11T13:00:00",
          "2022-01-11T14:00:00",
          "2022-01-11T15:00:00",
          "2022-01-11T16:00:00",
          "2022-01-11T17:00:00",
          "2022-01-11T18:00:00",
          "2022-01-11T19:00:00",
          "2022-01-11T20:00:00",
          "2022-01-11T21:00:00",
          "2022-01-11T22:00:00",
          "2022-01-11T23:00:00",
          "2022-01-12T00:00:00",
          "2022-01-12T01:00:00",
          "2022-01-12T02:00:00",
          "2022-01-12T03:00:00",
          "2022-01-12T04:00:00",
          "2022-01-12T05:00:00",
          "2022-01-12T06:00:00",
          "2022-01-12T07:00:00",
          "2022-01-12T08:00:00",
          "2022-01-12T09:00:00",
          "2022-01-12T10:00:00",
          "2022-01-12T11:00:00",
          "2022-01-12T12:00:00",
          "2022-01-12T13:00:00",
          "2022-01-12T14:00:00",
          "2022-01-12T15:00:00",
          "2022-01-12T16:00:00",
          "2022-01-12T17:00:00",
          "2022-01-12T18:00:00",
          "2022-01-12T19:00:00",
          "2022-01-12T20:00:00",
          "2022-01-12T21:00:00",
          "2022-01-12T22:00:00",
          "2022-01-12T23:00:00",
          "2022-01-13T00:00:00",
          "2022-01-13T01:00:00",
          "2022-01-13T02:00:00",
          "2022-01-13T03:00:00",
          "2022-01-13T04:00:00",
          "2022-01-13T05:00:00",
          "2022-01-13T06:00:00",
          "2022-01-13T07:00:00",
          "2022-01-13T08:00:00",
          "2022-01-13T09:00:00",
          "2022-01-13T10:00:00",
          "2022-01-13T11:00:00",
          "2022-01-13T12:00:00",
          "2022-01-13T13:00:00",
          "2022-01-13T14:00:00",
          "2022-01-13T15:00:00",
          "2022-01-13T16:00:00",
          "2022-01-13T17:00:00",
          "2022-01-13T18:00:00",
          "2022-01-13T19:00:00",
          "2022-01-13T20:00:00",
          "2022-01-13T21:00:00",
          "2022-01-13T22:00:00",
          "2022-01-13T23:00:00",
          "2022-01-14T00:00:00",
          "2022-01-14T01:00:00",
          "2022-01-14T02:00:00",
          "2022-01-14T03:00:00",
          "2022-01-14T04:00:00",
          "2022-01-14T05:00:00",
          "2022-01-14T06:00:00",
          "2022-01-14T07:00:00",
          "2022-01-14T08:00:00",
          "2022-01-14T09:00:00",
          "2022-01-14T10:00:00",
          "2022-01-14T11:00:00",
          "2022-01-14T12:00:00",
          "2022-01-14T13:00:00",
          "2022-01-14T14:00:00",
          "2022-01-14T15:00:00",
          "2022-01-14T16:00:00",
          "2022-01-14T17:00:00",
          "2022-01-14T18:00:00",
          "2022-01-14T19:00:00",
          "2022-01-14T20:00:00",
          "2022-01-14T21:00:00",
          "2022-01-14T22:00:00",
          "2022-01-14T23:00:00",
          "2022-01-15T00:00:00",
          "2022-01-15T01:00:00",
          "2022-01-15T02:00:00",
          "2022-01-15T03:00:00",
          "2022-01-15T04:00:00",
          "2022-01-15T05:00:00",
          "2022-01-15T06:00:00",
          "2022-01-15T07:00:00",
          "2022-01-15T08:00:00",
          "2022-01-15T09:00:00",
          "2022-01-15T10:00:00",
          "2022-01-15T11:00:00",
          "2022-01-15T12:00:00",
          "2022-01-15T13:00:00",
          "2022-01-15T14:00:00",
          "2022-01-15T15:00:00",
          "2022-01-15T16:00:00",
          "2022-01-15T17:00:00",
          "2022-01-15T18:00:00",
          "2022-01-15T19:00:00",
          "2022-01-15T20:00:00",
          "2022-01-15T21:00:00",
          "2022-01-15T22:00:00",
          "2022-01-15T23:00:00",
          "2022-01-16T00:00:00",
          "2022-01-16T01:00:00",
          "2022-01-16T02:00:00",
          "2022-01-16T03:00:00",
          "2022-01-16T04:00:00",
          "2022-01-16T05:00:00",
          "2022-01-16T06:00:00",
          "2022-01-16T07:00:00",
          "2022-01-16T08:00:00",
          "2022-01-16T09:00:00",
          "2022-01-16T10:00:00",
          "2022-01-16T11:00:00",
          "2022-01-16T12:00:00",
          "2022-01-16T13:00:00",
          "2022-01-16T14:00:00",
          "2022-01-16T15:00:00",
          "2022-01-16T16:00:00",
          "2022-01-16T17:00:00",
          "2022-01-16T18:00:00",
          "2022-01-16T19:00:00",
          "2022-01-16T20:00:00",
          "2022-01-16T21:00:00",
          "2022-01-16T22:00:00",
          "2022-01-16T23:00:00",
          "2022-01-17T00:00:00",
          "2022-01-17T01:00:00",
          "2022-01-17T02:00:00",
          "2022-01-17T03:00:00",
          "2022-01-17T04:00:00",
          "2022-01-17T05:00:00",
          "2022-01-17T06:00:00"
         ],
         "y": [
          0,
          0,
          150,
          410,
          470,
          1300,
          610,
          1140,
          740,
          650,
          920,
          630,
          840,
          570,
          520,
          580,
          650,
          850,
          570,
          600,
          410,
          0,
          0,
          110,
          0,
          100,
          200,
          1050,
          970,
          670,
          580,
          1340,
          730,
          1010,
          780,
          720,
          790,
          420,
          510,
          460,
          480,
          510,
          490,
          470,
          280,
          350,
          10,
          100,
          20,
          370,
          500,
          440,
          530,
          1250,
          740,
          940,
          650,
          720,
          700,
          1180,
          630,
          860,
          670,
          630,
          590,
          860,
          600,
          600,
          500,
          400,
          40,
          120,
          250,
          200,
          50,
          410,
          630,
          1350,
          1050,
          1450,
          850,
          710,
          680,
          600,
          660,
          830,
          570,
          570,
          620,
          630,
          850,
          490,
          380,
          30,
          210,
          0,
          0,
          0,
          360,
          340,
          490,
          940,
          670,
          670,
          580,
          590,
          900,
          580,
          590,
          560,
          480,
          770,
          520,
          580,
          840,
          700,
          310,
          0,
          0,
          120,
          0,
          90,
          180,
          550,
          490,
          820,
          610,
          450,
          590,
          550,
          570,
          820,
          510,
          530,
          460,
          790,
          500,
          500,
          530,
          1300,
          160,
          0,
          0,
          110,
          0,
          0,
          310,
          360,
          470,
          1010,
          600,
          830,
          590,
          610,
          620,
          780,
          510,
          540,
          520,
          860,
          580,
          550,
          510,
          1150,
          240,
          10,
          90,
          0,
          10,
          80,
          180,
          540,
          580,
          1020,
          730,
          650,
          660,
          570,
          890,
          600,
          430,
          580,
          910,
          440,
          500,
          530,
          560,
          940,
          270,
          0,
          170,
          0,
          20,
          140,
          330,
          450,
          760,
          640,
          820,
          620,
          670,
          530,
          680,
          690,
          490,
          550,
          500,
          820,
          530,
          820,
          890,
          610,
          740,
          150,
          0,
          230,
          430,
          100,
          210,
          500,
          590,
          1070,
          740,
          780,
          780,
          650,
          1230,
          720,
          600,
          540,
          830,
          610,
          510,
          450,
          520,
          1200,
          320,
          230,
          0,
          110,
          0,
          0,
          310,
          490,
          1000,
          1210,
          1040,
          710,
          670,
          610,
          680,
          1000,
          620,
          580,
          880,
          650,
          660,
          720,
          870
         ]
        },
        {
         "line": {
          "color": "rgba(0,0,30,0.5)"
         },
         "mode": "lines",
         "name": "Test",
         "type": "scatter",
         "x": [
          "2022-01-17T06:00:00",
          "2022-01-17T07:00:00",
          "2022-01-17T08:00:00",
          "2022-01-17T09:00:00",
          "2022-01-17T10:00:00",
          "2022-01-17T11:00:00",
          "2022-01-17T12:00:00",
          "2022-01-17T13:00:00",
          "2022-01-17T14:00:00",
          "2022-01-17T15:00:00",
          "2022-01-17T16:00:00",
          "2022-01-17T17:00:00",
          "2022-01-17T18:00:00",
          "2022-01-17T19:00:00",
          "2022-01-17T20:00:00",
          "2022-01-17T21:00:00",
          "2022-01-17T22:00:00",
          "2022-01-17T23:00:00",
          "2022-01-18T00:00:00",
          "2022-01-18T01:00:00",
          "2022-01-18T02:00:00",
          "2022-01-18T03:00:00",
          "2022-01-18T04:00:00",
          "2022-01-18T05:00:00",
          "2022-01-18T06:00:00",
          "2022-01-18T07:00:00",
          "2022-01-18T08:00:00",
          "2022-01-18T09:00:00",
          "2022-01-18T10:00:00",
          "2022-01-18T11:00:00",
          "2022-01-18T12:00:00",
          "2022-01-18T13:00:00",
          "2022-01-18T14:00:00",
          "2022-01-18T15:00:00",
          "2022-01-18T16:00:00",
          "2022-01-18T17:00:00",
          "2022-01-18T18:00:00",
          "2022-01-18T19:00:00",
          "2022-01-18T20:00:00",
          "2022-01-18T21:00:00",
          "2022-01-18T22:00:00",
          "2022-01-18T23:00:00",
          "2022-01-19T00:00:00",
          "2022-01-19T01:00:00",
          "2022-01-19T02:00:00",
          "2022-01-19T03:00:00",
          "2022-01-19T04:00:00",
          "2022-01-19T05:00:00",
          "2022-01-19T06:00:00",
          "2022-01-19T07:00:00",
          "2022-01-19T08:00:00",
          "2022-01-19T09:00:00",
          "2022-01-19T10:00:00",
          "2022-01-19T11:00:00",
          "2022-01-19T12:00:00",
          "2022-01-19T13:00:00",
          "2022-01-19T14:00:00",
          "2022-01-19T15:00:00",
          "2022-01-19T16:00:00",
          "2022-01-19T17:00:00",
          "2022-01-19T18:00:00",
          "2022-01-19T19:00:00",
          "2022-01-19T20:00:00",
          "2022-01-19T21:00:00",
          "2022-01-19T22:00:00",
          "2022-01-19T23:00:00",
          "2022-01-20T00:00:00",
          "2022-01-20T01:00:00",
          "2022-01-20T02:00:00",
          "2022-01-20T03:00:00",
          "2022-01-20T04:00:00",
          "2022-01-20T05:00:00",
          "2022-01-20T06:00:00",
          "2022-01-20T07:00:00",
          "2022-01-20T08:00:00",
          "2022-01-20T09:00:00",
          "2022-01-20T10:00:00",
          "2022-01-20T11:00:00",
          "2022-01-20T12:00:00",
          "2022-01-20T13:00:00",
          "2022-01-20T14:00:00",
          "2022-01-20T15:00:00",
          "2022-01-20T16:00:00",
          "2022-01-20T17:00:00",
          "2022-01-20T18:00:00",
          "2022-01-20T19:00:00",
          "2022-01-20T20:00:00",
          "2022-01-20T21:00:00",
          "2022-01-20T22:00:00",
          "2022-01-20T23:00:00",
          "2022-01-21T00:00:00",
          "2022-01-21T01:00:00",
          "2022-01-21T02:00:00",
          "2022-01-21T03:00:00",
          "2022-01-21T04:00:00",
          "2022-01-21T05:00:00",
          "2022-01-21T06:00:00",
          "2022-01-21T07:00:00",
          "2022-01-21T08:00:00",
          "2022-01-21T09:00:00",
          "2022-01-21T10:00:00",
          "2022-01-21T11:00:00",
          "2022-01-21T12:00:00",
          "2022-01-21T13:00:00",
          "2022-01-21T14:00:00",
          "2022-01-21T15:00:00",
          "2022-01-21T16:00:00",
          "2022-01-21T17:00:00",
          "2022-01-21T18:00:00",
          "2022-01-21T19:00:00",
          "2022-01-21T20:00:00"
         ],
         "y": [
          870,
          670,
          450,
          0,
          0,
          0,
          70,
          0,
          320,
          350,
          1010,
          2170,
          1120,
          1640,
          620,
          950,
          660,
          1000,
          580,
          770,
          590,
          560,
          610,
          850,
          650,
          660,
          450,
          0,
          90,
          0,
          70,
          30,
          150,
          470,
          950,
          1150,
          910,
          670,
          630,
          610,
          870,
          590,
          540,
          530,
          830,
          650,
          860,
          600,
          620,
          640,
          780,
          270,
          0,
          0,
          0,
          90,
          490,
          750,
          560,
          900,
          1340,
          640,
          630,
          630,
          490,
          760,
          470,
          540,
          540,
          810,
          580,
          1180,
          560,
          570,
          890,
          650,
          620,
          910,
          210,
          230,
          80,
          940,
          930,
          1470,
          820,
          770,
          700,
          900,
          850,
          660,
          600,
          670,
          840,
          600,
          700,
          650,
          980,
          540,
          400,
          10,
          110,
          0,
          0,
          150,
          110,
          220,
          910,
          1280,
          1170,
          800,
          210
         ]
        },
        {
         "line": {
          "color": "red",
          "dash": "dot",
          "width": 3
         },
         "mode": "lines",
         "name": "Prediction",
         "type": "scatter",
         "x": [
          "2022-01-17T06:00:00",
          "2022-01-17T07:00:00",
          "2022-01-17T08:00:00",
          "2022-01-17T09:00:00",
          "2022-01-17T10:00:00",
          "2022-01-17T11:00:00",
          "2022-01-17T12:00:00",
          "2022-01-17T13:00:00",
          "2022-01-17T14:00:00",
          "2022-01-17T15:00:00",
          "2022-01-17T16:00:00",
          "2022-01-17T17:00:00",
          "2022-01-17T18:00:00",
          "2022-01-17T19:00:00",
          "2022-01-17T20:00:00",
          "2022-01-17T21:00:00",
          "2022-01-17T22:00:00",
          "2022-01-17T23:00:00",
          "2022-01-18T00:00:00",
          "2022-01-18T01:00:00",
          "2022-01-18T02:00:00",
          "2022-01-18T03:00:00",
          "2022-01-18T04:00:00",
          "2022-01-18T05:00:00",
          "2022-01-18T06:00:00",
          "2022-01-18T07:00:00",
          "2022-01-18T08:00:00",
          "2022-01-18T09:00:00",
          "2022-01-18T10:00:00",
          "2022-01-18T11:00:00",
          "2022-01-18T12:00:00",
          "2022-01-18T13:00:00",
          "2022-01-18T14:00:00",
          "2022-01-18T15:00:00",
          "2022-01-18T16:00:00",
          "2022-01-18T17:00:00",
          "2022-01-18T18:00:00",
          "2022-01-18T19:00:00",
          "2022-01-18T20:00:00",
          "2022-01-18T21:00:00",
          "2022-01-18T22:00:00",
          "2022-01-18T23:00:00",
          "2022-01-19T00:00:00",
          "2022-01-19T01:00:00",
          "2022-01-19T02:00:00",
          "2022-01-19T03:00:00",
          "2022-01-19T04:00:00",
          "2022-01-19T05:00:00",
          "2022-01-19T06:00:00",
          "2022-01-19T07:00:00",
          "2022-01-19T08:00:00",
          "2022-01-19T09:00:00",
          "2022-01-19T10:00:00",
          "2022-01-19T11:00:00",
          "2022-01-19T12:00:00",
          "2022-01-19T13:00:00",
          "2022-01-19T14:00:00",
          "2022-01-19T15:00:00",
          "2022-01-19T16:00:00",
          "2022-01-19T17:00:00",
          "2022-01-19T18:00:00",
          "2022-01-19T19:00:00",
          "2022-01-19T20:00:00",
          "2022-01-19T21:00:00",
          "2022-01-19T22:00:00",
          "2022-01-19T23:00:00",
          "2022-01-20T00:00:00",
          "2022-01-20T01:00:00",
          "2022-01-20T02:00:00",
          "2022-01-20T03:00:00",
          "2022-01-20T04:00:00",
          "2022-01-20T05:00:00",
          "2022-01-20T06:00:00",
          "2022-01-20T07:00:00",
          "2022-01-20T08:00:00",
          "2022-01-20T09:00:00",
          "2022-01-20T10:00:00",
          "2022-01-20T11:00:00",
          "2022-01-20T12:00:00",
          "2022-01-20T13:00:00",
          "2022-01-20T14:00:00",
          "2022-01-20T15:00:00",
          "2022-01-20T16:00:00",
          "2022-01-20T17:00:00",
          "2022-01-20T18:00:00",
          "2022-01-20T19:00:00",
          "2022-01-20T20:00:00",
          "2022-01-20T21:00:00",
          "2022-01-20T22:00:00",
          "2022-01-20T23:00:00",
          "2022-01-21T00:00:00",
          "2022-01-21T01:00:00",
          "2022-01-21T02:00:00",
          "2022-01-21T03:00:00",
          "2022-01-21T04:00:00",
          "2022-01-21T05:00:00",
          "2022-01-21T06:00:00",
          "2022-01-21T07:00:00",
          "2022-01-21T08:00:00",
          "2022-01-21T09:00:00",
          "2022-01-21T10:00:00",
          "2022-01-21T11:00:00",
          "2022-01-21T12:00:00",
          "2022-01-21T13:00:00",
          "2022-01-21T14:00:00",
          "2022-01-21T15:00:00",
          "2022-01-21T16:00:00",
          "2022-01-21T17:00:00",
          "2022-01-21T18:00:00",
          "2022-01-21T19:00:00",
          "2022-01-21T20:00:00"
         ],
         "y": [
          734.5334669354054,
          759.8828282366662,
          636.8699298458895,
          479.20595645239973,
          219.3802598144019,
          153.0579012157742,
          215.99946055054397,
          253.14246570853558,
          230.71499428464764,
          375.397675365474,
          468.67043502304097,
          781.6390598599478,
          1613.8597720327132,
          1109.3764065742719,
          1003.8374350749184,
          753.8420096229052,
          577.641802810258,
          695.6615749341036,
          741.5957119884164,
          663.8707209734567,
          588.9740449735,
          622.4410286866391,
          524.2860518664023,
          575.462063277984,
          720.6911698210521,
          670.8261233591052,
          579.169491197293,
          508.3611101352565,
          212.65985262482832,
          179.53318224542863,
          239.91113326543666,
          235.95726352672915,
          250.33959279123792,
          289.8445670708955,
          497.7897388465782,
          818.3046100846207,
          995.0490082559912,
          820.2027636089756,
          586.8593716245093,
          551.0059656409496,
          577.4361107779827,
          721.4563787485033,
          640.9905204102687,
          490.6047523750406,
          526.9341130656716,
          697.5121426922543,
          678.8457074044732,
          688.4765660804514,
          637.6704340475844,
          539.4092153091514,
          606.3661936973895,
          684.201352407302,
          440.66383685132246,
          132.502050933911,
          162.58567220967052,
          215.99241347534564,
          265.19359214406103,
          507.43734059534546,
          735.5139357772043,
          614.7680105812525,
          702.3025484175872,
          1074.6031836310046,
          726.2509818748396,
          464.06394631812,
          594.9641744699753,
          519.7886932960911,
          634.2643194635941,
          567.7121761420494,
          484.67309122910694,
          555.1186322820645,
          690.5072448217302,
          630.490235092641,
          850.9184755777719,
          711.1744463933319,
          444.46169281646655,
          735.3424038704218,
          684.1521806908015,
          552.3986451203932,
          743.1714482936421,
          447.76463341191345,
          234.43576559662853,
          278.47981588269124,
          693.8105234105852,
          930.2658819532652,
          1073.0752902026213,
          861.3798574872488,
          563.3958354748036,
          636.2366023182851,
          736.4847400110401,
          773.2672995549794,
          621.3555469437072,
          550.4977421110893,
          607.8821674326846,
          728.8153484582003,
          629.409056827713,
          592.1763596178585,
          633.9762086805342,
          782.4244771613253,
          638.0717684452834,
          390.5382901946863,
          221.92671997100894,
          203.04502046992485,
          242.222692659324,
          195.15444085549922,
          297.192791206768,
          313.5861784298676,
          334.6145025597433,
          745.4780407745392,
          1109.6160735344627,
          1006.5023759880053,
          699.2801224008539
         ]
        },
        {
         "fill": "toself",
         "fillcolor": "rgba(0,0,30,0.1)",
         "hoverinfo": "skip",
         "line": {
          "color": "rgba(0,0,0,0)"
         },
         "showlegend": false,
         "type": "scatter",
         "x": [
          "2022-01-17T06:00:00",
          "2022-01-17T07:00:00",
          "2022-01-17T08:00:00",
          "2022-01-17T09:00:00",
          "2022-01-17T10:00:00",
          "2022-01-17T11:00:00",
          "2022-01-17T12:00:00",
          "2022-01-17T13:00:00",
          "2022-01-17T14:00:00",
          "2022-01-17T15:00:00",
          "2022-01-17T16:00:00",
          "2022-01-17T17:00:00",
          "2022-01-17T18:00:00",
          "2022-01-17T19:00:00",
          "2022-01-17T20:00:00",
          "2022-01-17T21:00:00",
          "2022-01-17T22:00:00",
          "2022-01-17T23:00:00",
          "2022-01-18T00:00:00",
          "2022-01-18T01:00:00",
          "2022-01-18T02:00:00",
          "2022-01-18T03:00:00",
          "2022-01-18T04:00:00",
          "2022-01-18T05:00:00",
          "2022-01-18T06:00:00",
          "2022-01-18T07:00:00",
          "2022-01-18T08:00:00",
          "2022-01-18T09:00:00",
          "2022-01-18T10:00:00",
          "2022-01-18T11:00:00",
          "2022-01-18T12:00:00",
          "2022-01-18T13:00:00",
          "2022-01-18T14:00:00",
          "2022-01-18T15:00:00",
          "2022-01-18T16:00:00",
          "2022-01-18T17:00:00",
          "2022-01-18T18:00:00",
          "2022-01-18T19:00:00",
          "2022-01-18T20:00:00",
          "2022-01-18T21:00:00",
          "2022-01-18T22:00:00",
          "2022-01-18T23:00:00",
          "2022-01-19T00:00:00",
          "2022-01-19T01:00:00",
          "2022-01-19T02:00:00",
          "2022-01-19T03:00:00",
          "2022-01-19T04:00:00",
          "2022-01-19T05:00:00",
          "2022-01-19T06:00:00",
          "2022-01-19T07:00:00",
          "2022-01-19T08:00:00",
          "2022-01-19T09:00:00",
          "2022-01-19T10:00:00",
          "2022-01-19T11:00:00",
          "2022-01-19T12:00:00",
          "2022-01-19T13:00:00",
          "2022-01-19T14:00:00",
          "2022-01-19T15:00:00",
          "2022-01-19T16:00:00",
          "2022-01-19T17:00:00",
          "2022-01-19T18:00:00",
          "2022-01-19T19:00:00",
          "2022-01-19T20:00:00",
          "2022-01-19T21:00:00",
          "2022-01-19T22:00:00",
          "2022-01-19T23:00:00",
          "2022-01-20T00:00:00",
          "2022-01-20T01:00:00",
          "2022-01-20T02:00:00",
          "2022-01-20T03:00:00",
          "2022-01-20T04:00:00",
          "2022-01-20T05:00:00",
          "2022-01-20T06:00:00",
          "2022-01-20T07:00:00",
          "2022-01-20T08:00:00",
          "2022-01-20T09:00:00",
          "2022-01-20T10:00:00",
          "2022-01-20T11:00:00",
          "2022-01-20T12:00:00",
          "2022-01-20T13:00:00",
          "2022-01-20T14:00:00",
          "2022-01-20T15:00:00",
          "2022-01-20T16:00:00",
          "2022-01-20T17:00:00",
          "2022-01-20T18:00:00",
          "2022-01-20T19:00:00",
          "2022-01-20T20:00:00",
          "2022-01-20T21:00:00",
          "2022-01-20T22:00:00",
          "2022-01-20T23:00:00",
          "2022-01-21T00:00:00",
          "2022-01-21T01:00:00",
          "2022-01-21T02:00:00",
          "2022-01-21T03:00:00",
          "2022-01-21T04:00:00",
          "2022-01-21T05:00:00",
          "2022-01-21T06:00:00",
          "2022-01-21T07:00:00",
          "2022-01-21T08:00:00",
          "2022-01-21T09:00:00",
          "2022-01-21T10:00:00",
          "2022-01-21T11:00:00",
          "2022-01-21T12:00:00",
          "2022-01-21T13:00:00",
          "2022-01-21T14:00:00",
          "2022-01-21T15:00:00",
          "2022-01-21T16:00:00",
          "2022-01-21T17:00:00",
          "2022-01-21T18:00:00",
          "2022-01-21T19:00:00",
          "2022-01-21T20:00:00",
          "2022-01-21T20:00:00",
          "2022-01-21T19:00:00",
          "2022-01-21T18:00:00",
          "2022-01-21T17:00:00",
          "2022-01-21T16:00:00",
          "2022-01-21T15:00:00",
          "2022-01-21T14:00:00",
          "2022-01-21T13:00:00",
          "2022-01-21T12:00:00",
          "2022-01-21T11:00:00",
          "2022-01-21T10:00:00",
          "2022-01-21T09:00:00",
          "2022-01-21T08:00:00",
          "2022-01-21T07:00:00",
          "2022-01-21T06:00:00",
          "2022-01-21T05:00:00",
          "2022-01-21T04:00:00",
          "2022-01-21T03:00:00",
          "2022-01-21T02:00:00",
          "2022-01-21T01:00:00",
          "2022-01-21T00:00:00",
          "2022-01-20T23:00:00",
          "2022-01-20T22:00:00",
          "2022-01-20T21:00:00",
          "2022-01-20T20:00:00",
          "2022-01-20T19:00:00",
          "2022-01-20T18:00:00",
          "2022-01-20T17:00:00",
          "2022-01-20T16:00:00",
          "2022-01-20T15:00:00",
          "2022-01-20T14:00:00",
          "2022-01-20T13:00:00",
          "2022-01-20T12:00:00",
          "2022-01-20T11:00:00",
          "2022-01-20T10:00:00",
          "2022-01-20T09:00:00",
          "2022-01-20T08:00:00",
          "2022-01-20T07:00:00",
          "2022-01-20T06:00:00",
          "2022-01-20T05:00:00",
          "2022-01-20T04:00:00",
          "2022-01-20T03:00:00",
          "2022-01-20T02:00:00",
          "2022-01-20T01:00:00",
          "2022-01-20T00:00:00",
          "2022-01-19T23:00:00",
          "2022-01-19T22:00:00",
          "2022-01-19T21:00:00",
          "2022-01-19T20:00:00",
          "2022-01-19T19:00:00",
          "2022-01-19T18:00:00",
          "2022-01-19T17:00:00",
          "2022-01-19T16:00:00",
          "2022-01-19T15:00:00",
          "2022-01-19T14:00:00",
          "2022-01-19T13:00:00",
          "2022-01-19T12:00:00",
          "2022-01-19T11:00:00",
          "2022-01-19T10:00:00",
          "2022-01-19T09:00:00",
          "2022-01-19T08:00:00",
          "2022-01-19T07:00:00",
          "2022-01-19T06:00:00",
          "2022-01-19T05:00:00",
          "2022-01-19T04:00:00",
          "2022-01-19T03:00:00",
          "2022-01-19T02:00:00",
          "2022-01-19T01:00:00",
          "2022-01-19T00:00:00",
          "2022-01-18T23:00:00",
          "2022-01-18T22:00:00",
          "2022-01-18T21:00:00",
          "2022-01-18T20:00:00",
          "2022-01-18T19:00:00",
          "2022-01-18T18:00:00",
          "2022-01-18T17:00:00",
          "2022-01-18T16:00:00",
          "2022-01-18T15:00:00",
          "2022-01-18T14:00:00",
          "2022-01-18T13:00:00",
          "2022-01-18T12:00:00",
          "2022-01-18T11:00:00",
          "2022-01-18T10:00:00",
          "2022-01-18T09:00:00",
          "2022-01-18T08:00:00",
          "2022-01-18T07:00:00",
          "2022-01-18T06:00:00",
          "2022-01-18T05:00:00",
          "2022-01-18T04:00:00",
          "2022-01-18T03:00:00",
          "2022-01-18T02:00:00",
          "2022-01-18T01:00:00",
          "2022-01-18T00:00:00",
          "2022-01-17T23:00:00",
          "2022-01-17T22:00:00",
          "2022-01-17T21:00:00",
          "2022-01-17T20:00:00",
          "2022-01-17T19:00:00",
          "2022-01-17T18:00:00",
          "2022-01-17T17:00:00",
          "2022-01-17T16:00:00",
          "2022-01-17T15:00:00",
          "2022-01-17T14:00:00",
          "2022-01-17T13:00:00",
          "2022-01-17T12:00:00",
          "2022-01-17T11:00:00",
          "2022-01-17T10:00:00",
          "2022-01-17T09:00:00",
          "2022-01-17T08:00:00",
          "2022-01-17T07:00:00",
          "2022-01-17T06:00:00"
         ],
         "y": [
          1225.1109812844998,
          1250.4603653080153,
          1127.4473763173162,
          969.7832116169463,
          709.9576972641893,
          643.6355158396876,
          706.5771507048644,
          743.7201540026074,
          721.2926743791796,
          865.9752988092905,
          959.247809171265,
          1272.2166513711777,
          2104.4420904968188,
          1599.9627746777392,
          1494.4280472576,
          1244.4396758888593,
          1068.2439111668812,
          1186.2829553994707,
          1232.2206204576935,
          1154.5237101811076,
          1079.6309936523205,
          1113.1537497440618,
          1015.0066375203023,
          1066.1904086881352,
          1211.436257715579,
          1161.5792860671947,
          1069.9692436683015,
          999.1739632563127,
          703.4771298817811,
          670.35814789563,
          730.7428830099063,
          726.7999690967897,
          741.1871856918794,
          780.7089836709936,
          988.6608943423985,
          1309.1797473283607,
          1485.9348354121312,
          1311.0949862758996,
          1077.7552849958056,
          1041.9072305570471,
          1068.3438686577515,
          1212.4189122137457,
          1131.9630172264478,
          981.5819257520959,
          1017.9166581382561,
          1188.5006760339907,
          1169.8540303960212,
          1179.487166348944,
          1128.7152716598446,
          1030.4616908951418,
          1097.4216257097264,
          1175.2816073377708,
          931.7484688242077,
          623.5897033402465,
          653.6776390835494,
          707.0894887559995,
          756.3052265323605,
          998.5520411937753,
          1226.6320875920912,
          1105.8940267950516,
          1193.4330659358857,
          1565.7367435146434,
          1217.3885778013776,
          955.2055028653206,
          1086.113138888647,
          1011.0023469091354,
          1125.481571487259,
          1058.9763692414447,
          975.9432235376123,
          1046.395767155051,
          1181.795781897889,
          1121.7824260639625,
          1342.212818187023,
          1202.4722221319805,
          935.7637130445198,
          1226.6494573984828,
          1175.4913925235417,
          1043.7434271542465,
          1234.518433395362,
          939.1499354622761,
          725.8256421774109,
          769.8788060883301,
          1185.2141703025916,
          1421.6748232488062,
          1564.4882381658997,
          1352.8511749347983,
          1054.8741026832795,
          1127.7210073209399,
          1227.9914233760665,
          1264.788840175525,
          1112.8859165189817,
          1042.0485566839743,
          1099.4369242143111,
          1220.3775836092739,
          1120.991244056622,
          1083.7997821122115,
          1125.6242620394103,
          1274.1410401737976,
          1129.7920844645057,
          882.2621116439648,
          713.6564575377894,
          694.781032237491,
          733.9648745876553,
          686.9053942146463,
          788.9601367621932,
          805.3743271721303,
          826.4091743271031,
          1237.2765001869739,
          1601.4230900228513,
          1498.314579270614,
          1191.1042343688314,
          207.45601043287633,
          514.6901727053964,
          617.8090570460741,
          253.6795813621045,
          -157.18016920761647,
          -178.2019703123952,
          -194.57455434865722,
          -296.5965125036479,
          -249.51948926900738,
          -288.69099129764123,
          -269.8030175957715,
          -101.18553125459215,
          146.3514524260611,
          290.7079141488531,
          142.32815532165824,
          100.55293712350539,
          137.82686959880402,
          237.25311330712685,
          116.32741065105807,
          58.94692753820436,
          129.82517736843266,
          281.7457589344339,
          244.97805664601367,
          144.75219731563044,
          71.91756826632763,
          369.9085400396993,
          581.6623422393429,
          438.8569406577243,
          202.40687651857888,
          -212.91917432294753,
          -256.9541109841539,
          -43.620668638449104,
          251.82446319192212,
          61.05386308653982,
          192.81296885806142,
          244.03535034236086,
          -46.84032741158677,
          219.87667065468332,
          359.62413296852094,
          139.19804412131958,
          199.21870774557146,
          63.841497409077874,
          -6.597041079398423,
          76.44798304265413,
          143.0470674399291,
          28.57503968304667,
          103.81521005130378,
          -27.077610229080676,
          235.11338594830153,
          583.4696237473657,
          211.17203089928887,
          123.64199436745355,
          244.39578396231747,
          16.322639996915655,
          -225.91804224423845,
          -275.1046618053082,
          -328.5062946642084,
          -358.5856014724245,
          -50.420795121562776,
          193.1210974768332,
          115.31076168505251,
          48.356739723160956,
          146.6255964353242,
          197.465965811959,
          187.83738441292513,
          206.52360935051803,
          35.951567993087,
          -0.37242100201467565,
          150.01802359408947,
          230.493845283261,
          86.52835289821394,
          60.10470072485202,
          95.96345825321305,
          329.3105409420516,
          504.16318109985133,
          327.42947284088063,
          6.918583350757899,
          -201.01984952920265,
          -240.50800010940367,
          -254.88544204333147,
          -250.92061647903296,
          -311.2917834047728,
          -278.15742463212445,
          17.548257014200317,
          88.3697387262846,
          180.07296065101565,
          229.9460819265252,
          84.73371786783287,
          33.56546621250237,
          131.72830762921643,
          98.31709629467946,
          173.21773176580575,
          250.97080351913922,
          205.04019446873644,
          87.03969445363487,
          263.24434335695094,
          513.2468228922369,
          618.7900384708045,
          1123.2774535686076,
          291.0614683487179,
          -21.906939125183044,
          -115.17994807834253,
          -259.8626858098843,
          -237.43522258553625,
          -274.57822960377644,
          -337.5197134081392,
          -271.1971776353855,
          -11.371298712146881,
          146.29248337446285,
          269.30529116531727,
          243.95595258631113
         ]
        }
       ],
       "layout": {
        "height": 400,
        "template": {
         "data": {
          "bar": [
           {
            "error_x": {
             "color": "#2a3f5f"
            },
            "error_y": {
             "color": "#2a3f5f"
            },
            "marker": {
             "line": {
              "color": "#E5ECF6",
              "width": 0.5
             },
             "pattern": {
              "fillmode": "overlay",
              "size": 10,
              "solidity": 0.2
             }
            },
            "type": "bar"
           }
          ],
          "barpolar": [
           {
            "marker": {
             "line": {
              "color": "#E5ECF6",
              "width": 0.5
             },
             "pattern": {
              "fillmode": "overlay",
              "size": 10,
              "solidity": 0.2
             }
            },
            "type": "barpolar"
           }
          ],
          "carpet": [
           {
            "aaxis": {
             "endlinecolor": "#2a3f5f",
             "gridcolor": "white",
             "linecolor": "white",
             "minorgridcolor": "white",
             "startlinecolor": "#2a3f5f"
            },
            "baxis": {
             "endlinecolor": "#2a3f5f",
             "gridcolor": "white",
             "linecolor": "white",
             "minorgridcolor": "white",
             "startlinecolor": "#2a3f5f"
            },
            "type": "carpet"
           }
          ],
          "choropleth": [
           {
            "colorbar": {
             "outlinewidth": 0,
             "ticks": ""
            },
            "type": "choropleth"
           }
          ],
          "contour": [
           {
            "colorbar": {
             "outlinewidth": 0,
             "ticks": ""
            },
            "colorscale": [
             [
              0,
              "#0d0887"
             ],
             [
              0.1111111111111111,
              "#46039f"
             ],
             [
              0.2222222222222222,
              "#7201a8"
             ],
             [
              0.3333333333333333,
              "#9c179e"
             ],
             [
              0.4444444444444444,
              "#bd3786"
             ],
             [
              0.5555555555555556,
              "#d8576b"
             ],
             [
              0.6666666666666666,
              "#ed7953"
             ],
             [
              0.7777777777777778,
              "#fb9f3a"
             ],
             [
              0.8888888888888888,
              "#fdca26"
             ],
             [
              1,
              "#f0f921"
             ]
            ],
            "type": "contour"
           }
          ],
          "contourcarpet": [
           {
            "colorbar": {
             "outlinewidth": 0,
             "ticks": ""
            },
            "type": "contourcarpet"
           }
          ],
          "heatmap": [
           {
            "colorbar": {
             "outlinewidth": 0,
             "ticks": ""
            },
            "colorscale": [
             [
              0,
              "#0d0887"
             ],
             [
              0.1111111111111111,
              "#46039f"
             ],
             [
              0.2222222222222222,
              "#7201a8"
             ],
             [
              0.3333333333333333,
              "#9c179e"
             ],
             [
              0.4444444444444444,
              "#bd3786"
             ],
             [
              0.5555555555555556,
              "#d8576b"
             ],
             [
              0.6666666666666666,
              "#ed7953"
             ],
             [
              0.7777777777777778,
              "#fb9f3a"
             ],
             [
              0.8888888888888888,
              "#fdca26"
             ],
             [
              1,
              "#f0f921"
             ]
            ],
            "type": "heatmap"
           }
          ],
          "heatmapgl": [
           {
            "colorbar": {
             "outlinewidth": 0,
             "ticks": ""
            },
            "colorscale": [
             [
              0,
              "#0d0887"
             ],
             [
              0.1111111111111111,
              "#46039f"
             ],
             [
              0.2222222222222222,
              "#7201a8"
             ],
             [
              0.3333333333333333,
              "#9c179e"
             ],
             [
              0.4444444444444444,
              "#bd3786"
             ],
             [
              0.5555555555555556,
              "#d8576b"
             ],
             [
              0.6666666666666666,
              "#ed7953"
             ],
             [
              0.7777777777777778,
              "#fb9f3a"
             ],
             [
              0.8888888888888888,
              "#fdca26"
             ],
             [
              1,
              "#f0f921"
             ]
            ],
            "type": "heatmapgl"
           }
          ],
          "histogram": [
           {
            "marker": {
             "pattern": {
              "fillmode": "overlay",
              "size": 10,
              "solidity": 0.2
             }
            },
            "type": "histogram"
           }
          ],
          "histogram2d": [
           {
            "colorbar": {
             "outlinewidth": 0,
             "ticks": ""
            },
            "colorscale": [
             [
              0,
              "#0d0887"
             ],
             [
              0.1111111111111111,
              "#46039f"
             ],
             [
              0.2222222222222222,
              "#7201a8"
             ],
             [
              0.3333333333333333,
              "#9c179e"
             ],
             [
              0.4444444444444444,
              "#bd3786"
             ],
             [
              0.5555555555555556,
              "#d8576b"
             ],
             [
              0.6666666666666666,
              "#ed7953"
             ],
             [
              0.7777777777777778,
              "#fb9f3a"
             ],
             [
              0.8888888888888888,
              "#fdca26"
             ],
             [
              1,
              "#f0f921"
             ]
            ],
            "type": "histogram2d"
           }
          ],
          "histogram2dcontour": [
           {
            "colorbar": {
             "outlinewidth": 0,
             "ticks": ""
            },
            "colorscale": [
             [
              0,
              "#0d0887"
             ],
             [
              0.1111111111111111,
              "#46039f"
             ],
             [
              0.2222222222222222,
              "#7201a8"
             ],
             [
              0.3333333333333333,
              "#9c179e"
             ],
             [
              0.4444444444444444,
              "#bd3786"
             ],
             [
              0.5555555555555556,
              "#d8576b"
             ],
             [
              0.6666666666666666,
              "#ed7953"
             ],
             [
              0.7777777777777778,
              "#fb9f3a"
             ],
             [
              0.8888888888888888,
              "#fdca26"
             ],
             [
              1,
              "#f0f921"
             ]
            ],
            "type": "histogram2dcontour"
           }
          ],
          "mesh3d": [
           {
            "colorbar": {
             "outlinewidth": 0,
             "ticks": ""
            },
            "type": "mesh3d"
           }
          ],
          "parcoords": [
           {
            "line": {
             "colorbar": {
              "outlinewidth": 0,
              "ticks": ""
             }
            },
            "type": "parcoords"
           }
          ],
          "pie": [
           {
            "automargin": true,
            "type": "pie"
           }
          ],
          "scatter": [
           {
            "marker": {
             "colorbar": {
              "outlinewidth": 0,
              "ticks": ""
             }
            },
            "type": "scatter"
           }
          ],
          "scatter3d": [
           {
            "line": {
             "colorbar": {
              "outlinewidth": 0,
              "ticks": ""
             }
            },
            "marker": {
             "colorbar": {
              "outlinewidth": 0,
              "ticks": ""
             }
            },
            "type": "scatter3d"
           }
          ],
          "scattercarpet": [
           {
            "marker": {
             "colorbar": {
              "outlinewidth": 0,
              "ticks": ""
             }
            },
            "type": "scattercarpet"
           }
          ],
          "scattergeo": [
           {
            "marker": {
             "colorbar": {
              "outlinewidth": 0,
              "ticks": ""
             }
            },
            "type": "scattergeo"
           }
          ],
          "scattergl": [
           {
            "marker": {
             "colorbar": {
              "outlinewidth": 0,
              "ticks": ""
             }
            },
            "type": "scattergl"
           }
          ],
          "scattermapbox": [
           {
            "marker": {
             "colorbar": {
              "outlinewidth": 0,
              "ticks": ""
             }
            },
            "type": "scattermapbox"
           }
          ],
          "scatterpolar": [
           {
            "marker": {
             "colorbar": {
              "outlinewidth": 0,
              "ticks": ""
             }
            },
            "type": "scatterpolar"
           }
          ],
          "scatterpolargl": [
           {
            "marker": {
             "colorbar": {
              "outlinewidth": 0,
              "ticks": ""
             }
            },
            "type": "scatterpolargl"
           }
          ],
          "scatterternary": [
           {
            "marker": {
             "colorbar": {
              "outlinewidth": 0,
              "ticks": ""
             }
            },
            "type": "scatterternary"
           }
          ],
          "surface": [
           {
            "colorbar": {
             "outlinewidth": 0,
             "ticks": ""
            },
            "colorscale": [
             [
              0,
              "#0d0887"
             ],
             [
              0.1111111111111111,
              "#46039f"
             ],
             [
              0.2222222222222222,
              "#7201a8"
             ],
             [
              0.3333333333333333,
              "#9c179e"
             ],
             [
              0.4444444444444444,
              "#bd3786"
             ],
             [
              0.5555555555555556,
              "#d8576b"
             ],
             [
              0.6666666666666666,
              "#ed7953"
             ],
             [
              0.7777777777777778,
              "#fb9f3a"
             ],
             [
              0.8888888888888888,
              "#fdca26"
             ],
             [
              1,
              "#f0f921"
             ]
            ],
            "type": "surface"
           }
          ],
          "table": [
           {
            "cells": {
             "fill": {
              "color": "#EBF0F8"
             },
             "line": {
              "color": "white"
             }
            },
            "header": {
             "fill": {
              "color": "#C8D4E3"
             },
             "line": {
              "color": "white"
             }
            },
            "type": "table"
           }
          ]
         },
         "layout": {
          "annotationdefaults": {
           "arrowcolor": "#2a3f5f",
           "arrowhead": 0,
           "arrowwidth": 1
          },
          "autotypenumbers": "strict",
          "coloraxis": {
           "colorbar": {
            "outlinewidth": 0,
            "ticks": ""
           }
          },
          "colorscale": {
           "diverging": [
            [
             0,
             "#8e0152"
            ],
            [
             0.1,
             "#c51b7d"
            ],
            [
             0.2,
             "#de77ae"
            ],
            [
             0.3,
             "#f1b6da"
            ],
            [
             0.4,
             "#fde0ef"
            ],
            [
             0.5,
             "#f7f7f7"
            ],
            [
             0.6,
             "#e6f5d0"
            ],
            [
             0.7,
             "#b8e186"
            ],
            [
             0.8,
             "#7fbc41"
            ],
            [
             0.9,
             "#4d9221"
            ],
            [
             1,
             "#276419"
            ]
           ],
           "sequential": [
            [
             0,
             "#0d0887"
            ],
            [
             0.1111111111111111,
             "#46039f"
            ],
            [
             0.2222222222222222,
             "#7201a8"
            ],
            [
             0.3333333333333333,
             "#9c179e"
            ],
            [
             0.4444444444444444,
             "#bd3786"
            ],
            [
             0.5555555555555556,
             "#d8576b"
            ],
            [
             0.6666666666666666,
             "#ed7953"
            ],
            [
             0.7777777777777778,
             "#fb9f3a"
            ],
            [
             0.8888888888888888,
             "#fdca26"
            ],
            [
             1,
             "#f0f921"
            ]
           ],
           "sequentialminus": [
            [
             0,
             "#0d0887"
            ],
            [
             0.1111111111111111,
             "#46039f"
            ],
            [
             0.2222222222222222,
             "#7201a8"
            ],
            [
             0.3333333333333333,
             "#9c179e"
            ],
            [
             0.4444444444444444,
             "#bd3786"
            ],
            [
             0.5555555555555556,
             "#d8576b"
            ],
            [
             0.6666666666666666,
             "#ed7953"
            ],
            [
             0.7777777777777778,
             "#fb9f3a"
            ],
            [
             0.8888888888888888,
             "#fdca26"
            ],
            [
             1,
             "#f0f921"
            ]
           ]
          },
          "colorway": [
           "#636efa",
           "#EF553B",
           "#00cc96",
           "#ab63fa",
           "#FFA15A",
           "#19d3f3",
           "#FF6692",
           "#B6E880",
           "#FF97FF",
           "#FECB52"
          ],
          "font": {
           "color": "#2a3f5f"
          },
          "geo": {
           "bgcolor": "white",
           "lakecolor": "white",
           "landcolor": "#E5ECF6",
           "showlakes": true,
           "showland": true,
           "subunitcolor": "white"
          },
          "hoverlabel": {
           "align": "left"
          },
          "hovermode": "closest",
          "mapbox": {
           "style": "light"
          },
          "paper_bgcolor": "white",
          "plot_bgcolor": "#E5ECF6",
          "polar": {
           "angularaxis": {
            "gridcolor": "white",
            "linecolor": "white",
            "ticks": ""
           },
           "bgcolor": "#E5ECF6",
           "radialaxis": {
            "gridcolor": "white",
            "linecolor": "white",
            "ticks": ""
           }
          },
          "scene": {
           "xaxis": {
            "backgroundcolor": "#E5ECF6",
            "gridcolor": "white",
            "gridwidth": 2,
            "linecolor": "white",
            "showbackground": true,
            "ticks": "",
            "zerolinecolor": "white"
           },
           "yaxis": {
            "backgroundcolor": "#E5ECF6",
            "gridcolor": "white",
            "gridwidth": 2,
            "linecolor": "white",
            "showbackground": true,
            "ticks": "",
            "zerolinecolor": "white"
           },
           "zaxis": {
            "backgroundcolor": "#E5ECF6",
            "gridcolor": "white",
            "gridwidth": 2,
            "linecolor": "white",
            "showbackground": true,
            "ticks": "",
            "zerolinecolor": "white"
           }
          },
          "shapedefaults": {
           "line": {
            "color": "#2a3f5f"
           }
          },
          "ternary": {
           "aaxis": {
            "gridcolor": "white",
            "linecolor": "white",
            "ticks": ""
           },
           "baxis": {
            "gridcolor": "white",
            "linecolor": "white",
            "ticks": ""
           },
           "bgcolor": "#E5ECF6",
           "caxis": {
            "gridcolor": "white",
            "linecolor": "white",
            "ticks": ""
           }
          },
          "title": {
           "x": 0.05
          },
          "xaxis": {
           "automargin": true,
           "gridcolor": "white",
           "linecolor": "white",
           "ticks": "",
           "title": {
            "standoff": 15
           },
           "zerolinecolor": "white",
           "zerolinewidth": 2
          },
          "yaxis": {
           "automargin": true,
           "gridcolor": "white",
           "linecolor": "white",
           "ticks": "",
           "title": {
            "standoff": 15
           },
           "zerolinecolor": "white",
           "zerolinewidth": 2
          }
         }
        },
        "title": {
         "text": "ARIMA(3,0,0)모형"
        },
        "width": 1000
       }
      },
      "text/html": [
       "<div>                            <div id=\"44821255-fe3c-4ba8-b254-0e5de2f8891b\" class=\"plotly-graph-div\" style=\"height:400px; width:1000px;\"></div>            <script type=\"text/javascript\">                require([\"plotly\"], function(Plotly) {                    window.PLOTLYENV=window.PLOTLYENV || {};                                    if (document.getElementById(\"44821255-fe3c-4ba8-b254-0e5de2f8891b\")) {                    Plotly.newPlot(                        \"44821255-fe3c-4ba8-b254-0e5de2f8891b\",                        [{\"line\":{\"color\":\"royalblue\"},\"mode\":\"lines\",\"name\":\"Train\",\"x\":[\"2022-01-06T12:00:00\",\"2022-01-06T13:00:00\",\"2022-01-06T14:00:00\",\"2022-01-06T15:00:00\",\"2022-01-06T16:00:00\",\"2022-01-06T17:00:00\",\"2022-01-06T18:00:00\",\"2022-01-06T19:00:00\",\"2022-01-06T20:00:00\",\"2022-01-06T21:00:00\",\"2022-01-06T22:00:00\",\"2022-01-06T23:00:00\",\"2022-01-07T00:00:00\",\"2022-01-07T01:00:00\",\"2022-01-07T02:00:00\",\"2022-01-07T03:00:00\",\"2022-01-07T04:00:00\",\"2022-01-07T05:00:00\",\"2022-01-07T06:00:00\",\"2022-01-07T07:00:00\",\"2022-01-07T08:00:00\",\"2022-01-07T09:00:00\",\"2022-01-07T10:00:00\",\"2022-01-07T11:00:00\",\"2022-01-07T12:00:00\",\"2022-01-07T13:00:00\",\"2022-01-07T14:00:00\",\"2022-01-07T15:00:00\",\"2022-01-07T16:00:00\",\"2022-01-07T17:00:00\",\"2022-01-07T18:00:00\",\"2022-01-07T19:00:00\",\"2022-01-07T20:00:00\",\"2022-01-07T21:00:00\",\"2022-01-07T22:00:00\",\"2022-01-07T23:00:00\",\"2022-01-08T00:00:00\",\"2022-01-08T01:00:00\",\"2022-01-08T02:00:00\",\"2022-01-08T03:00:00\",\"2022-01-08T04:00:00\",\"2022-01-08T05:00:00\",\"2022-01-08T06:00:00\",\"2022-01-08T07:00:00\",\"2022-01-08T08:00:00\",\"2022-01-08T09:00:00\",\"2022-01-08T10:00:00\",\"2022-01-08T11:00:00\",\"2022-01-08T12:00:00\",\"2022-01-08T13:00:00\",\"2022-01-08T14:00:00\",\"2022-01-08T15:00:00\",\"2022-01-08T16:00:00\",\"2022-01-08T17:00:00\",\"2022-01-08T18:00:00\",\"2022-01-08T19:00:00\",\"2022-01-08T20:00:00\",\"2022-01-08T21:00:00\",\"2022-01-08T22:00:00\",\"2022-01-08T23:00:00\",\"2022-01-09T00:00:00\",\"2022-01-09T01:00:00\",\"2022-01-09T02:00:00\",\"2022-01-09T03:00:00\",\"2022-01-09T04:00:00\",\"2022-01-09T05:00:00\",\"2022-01-09T06:00:00\",\"2022-01-09T07:00:00\",\"2022-01-09T08:00:00\",\"2022-01-09T09:00:00\",\"2022-01-09T10:00:00\",\"2022-01-09T11:00:00\",\"2022-01-09T12:00:00\",\"2022-01-09T13:00:00\",\"2022-01-09T14:00:00\",\"2022-01-09T15:00:00\",\"2022-01-09T16:00:00\",\"2022-01-09T17:00:00\",\"2022-01-09T18:00:00\",\"2022-01-09T19:00:00\",\"2022-01-09T20:00:00\",\"2022-01-09T21:00:00\",\"2022-01-09T22:00:00\",\"2022-01-09T23:00:00\",\"2022-01-10T00:00:00\",\"2022-01-10T01:00:00\",\"2022-01-10T02:00:00\",\"2022-01-10T03:00:00\",\"2022-01-10T04:00:00\",\"2022-01-10T05:00:00\",\"2022-01-10T06:00:00\",\"2022-01-10T07:00:00\",\"2022-01-10T08:00:00\",\"2022-01-10T09:00:00\",\"2022-01-10T10:00:00\",\"2022-01-10T11:00:00\",\"2022-01-10T12:00:00\",\"2022-01-10T13:00:00\",\"2022-01-10T14:00:00\",\"2022-01-10T15:00:00\",\"2022-01-10T16:00:00\",\"2022-01-10T17:00:00\",\"2022-01-10T18:00:00\",\"2022-01-10T19:00:00\",\"2022-01-10T20:00:00\",\"2022-01-10T21:00:00\",\"2022-01-10T22:00:00\",\"2022-01-10T23:00:00\",\"2022-01-11T00:00:00\",\"2022-01-11T01:00:00\",\"2022-01-11T02:00:00\",\"2022-01-11T03:00:00\",\"2022-01-11T04:00:00\",\"2022-01-11T05:00:00\",\"2022-01-11T06:00:00\",\"2022-01-11T07:00:00\",\"2022-01-11T08:00:00\",\"2022-01-11T09:00:00\",\"2022-01-11T10:00:00\",\"2022-01-11T11:00:00\",\"2022-01-11T12:00:00\",\"2022-01-11T13:00:00\",\"2022-01-11T14:00:00\",\"2022-01-11T15:00:00\",\"2022-01-11T16:00:00\",\"2022-01-11T17:00:00\",\"2022-01-11T18:00:00\",\"2022-01-11T19:00:00\",\"2022-01-11T20:00:00\",\"2022-01-11T21:00:00\",\"2022-01-11T22:00:00\",\"2022-01-11T23:00:00\",\"2022-01-12T00:00:00\",\"2022-01-12T01:00:00\",\"2022-01-12T02:00:00\",\"2022-01-12T03:00:00\",\"2022-01-12T04:00:00\",\"2022-01-12T05:00:00\",\"2022-01-12T06:00:00\",\"2022-01-12T07:00:00\",\"2022-01-12T08:00:00\",\"2022-01-12T09:00:00\",\"2022-01-12T10:00:00\",\"2022-01-12T11:00:00\",\"2022-01-12T12:00:00\",\"2022-01-12T13:00:00\",\"2022-01-12T14:00:00\",\"2022-01-12T15:00:00\",\"2022-01-12T16:00:00\",\"2022-01-12T17:00:00\",\"2022-01-12T18:00:00\",\"2022-01-12T19:00:00\",\"2022-01-12T20:00:00\",\"2022-01-12T21:00:00\",\"2022-01-12T22:00:00\",\"2022-01-12T23:00:00\",\"2022-01-13T00:00:00\",\"2022-01-13T01:00:00\",\"2022-01-13T02:00:00\",\"2022-01-13T03:00:00\",\"2022-01-13T04:00:00\",\"2022-01-13T05:00:00\",\"2022-01-13T06:00:00\",\"2022-01-13T07:00:00\",\"2022-01-13T08:00:00\",\"2022-01-13T09:00:00\",\"2022-01-13T10:00:00\",\"2022-01-13T11:00:00\",\"2022-01-13T12:00:00\",\"2022-01-13T13:00:00\",\"2022-01-13T14:00:00\",\"2022-01-13T15:00:00\",\"2022-01-13T16:00:00\",\"2022-01-13T17:00:00\",\"2022-01-13T18:00:00\",\"2022-01-13T19:00:00\",\"2022-01-13T20:00:00\",\"2022-01-13T21:00:00\",\"2022-01-13T22:00:00\",\"2022-01-13T23:00:00\",\"2022-01-14T00:00:00\",\"2022-01-14T01:00:00\",\"2022-01-14T02:00:00\",\"2022-01-14T03:00:00\",\"2022-01-14T04:00:00\",\"2022-01-14T05:00:00\",\"2022-01-14T06:00:00\",\"2022-01-14T07:00:00\",\"2022-01-14T08:00:00\",\"2022-01-14T09:00:00\",\"2022-01-14T10:00:00\",\"2022-01-14T11:00:00\",\"2022-01-14T12:00:00\",\"2022-01-14T13:00:00\",\"2022-01-14T14:00:00\",\"2022-01-14T15:00:00\",\"2022-01-14T16:00:00\",\"2022-01-14T17:00:00\",\"2022-01-14T18:00:00\",\"2022-01-14T19:00:00\",\"2022-01-14T20:00:00\",\"2022-01-14T21:00:00\",\"2022-01-14T22:00:00\",\"2022-01-14T23:00:00\",\"2022-01-15T00:00:00\",\"2022-01-15T01:00:00\",\"2022-01-15T02:00:00\",\"2022-01-15T03:00:00\",\"2022-01-15T04:00:00\",\"2022-01-15T05:00:00\",\"2022-01-15T06:00:00\",\"2022-01-15T07:00:00\",\"2022-01-15T08:00:00\",\"2022-01-15T09:00:00\",\"2022-01-15T10:00:00\",\"2022-01-15T11:00:00\",\"2022-01-15T12:00:00\",\"2022-01-15T13:00:00\",\"2022-01-15T14:00:00\",\"2022-01-15T15:00:00\",\"2022-01-15T16:00:00\",\"2022-01-15T17:00:00\",\"2022-01-15T18:00:00\",\"2022-01-15T19:00:00\",\"2022-01-15T20:00:00\",\"2022-01-15T21:00:00\",\"2022-01-15T22:00:00\",\"2022-01-15T23:00:00\",\"2022-01-16T00:00:00\",\"2022-01-16T01:00:00\",\"2022-01-16T02:00:00\",\"2022-01-16T03:00:00\",\"2022-01-16T04:00:00\",\"2022-01-16T05:00:00\",\"2022-01-16T06:00:00\",\"2022-01-16T07:00:00\",\"2022-01-16T08:00:00\",\"2022-01-16T09:00:00\",\"2022-01-16T10:00:00\",\"2022-01-16T11:00:00\",\"2022-01-16T12:00:00\",\"2022-01-16T13:00:00\",\"2022-01-16T14:00:00\",\"2022-01-16T15:00:00\",\"2022-01-16T16:00:00\",\"2022-01-16T17:00:00\",\"2022-01-16T18:00:00\",\"2022-01-16T19:00:00\",\"2022-01-16T20:00:00\",\"2022-01-16T21:00:00\",\"2022-01-16T22:00:00\",\"2022-01-16T23:00:00\",\"2022-01-17T00:00:00\",\"2022-01-17T01:00:00\",\"2022-01-17T02:00:00\",\"2022-01-17T03:00:00\",\"2022-01-17T04:00:00\",\"2022-01-17T05:00:00\",\"2022-01-17T06:00:00\"],\"y\":[0.0,0.0,150.0,410.0,470.0,1300.0,610.0,1140.0,740.0,650.0,920.0,630.0,840.0,570.0,520.0,580.0,650.0,850.0,570.0,600.0,410.0,0.0,0.0,110.0,0.0,100.0,200.0,1050.0,970.0,670.0,580.0,1340.0,730.0,1010.0,780.0,720.0,790.0,420.0,510.0,460.0,480.0,510.0,490.0,470.0,280.0,350.0,10.0,100.0,20.0,370.0,500.0,440.0,530.0,1250.0,740.0,940.0,650.0,720.0,700.0,1180.0,630.0,860.0,670.0,630.0,590.0,860.0,600.0,600.0,500.0,400.0,40.0,120.0,250.0,200.0,50.0,410.0,630.0,1350.0,1050.0,1450.0,850.0,710.0,680.0,600.0,660.0,830.0,570.0,570.0,620.0,630.0,850.0,490.0,380.0,30.0,210.0,0.0,0.0,0.0,360.0,340.0,490.0,940.0,670.0,670.0,580.0,590.0,900.0,580.0,590.0,560.0,480.0,770.0,520.0,580.0,840.0,700.0,310.0,0.0,0.0,120.0,0.0,90.0,180.0,550.0,490.0,820.0,610.0,450.0,590.0,550.0,570.0,820.0,510.0,530.0,460.0,790.0,500.0,500.0,530.0,1300.0,160.0,0.0,0.0,110.0,0.0,0.0,310.0,360.0,470.0,1010.0,600.0,830.0,590.0,610.0,620.0,780.0,510.0,540.0,520.0,860.0,580.0,550.0,510.0,1150.0,240.0,10.0,90.0,0.0,10.0,80.0,180.0,540.0,580.0,1020.0,730.0,650.0,660.0,570.0,890.0,600.0,430.0,580.0,910.0,440.0,500.0,530.0,560.0,940.0,270.0,0.0,170.0,0.0,20.0,140.0,330.0,450.0,760.0,640.0,820.0,620.0,670.0,530.0,680.0,690.0,490.0,550.0,500.0,820.0,530.0,820.0,890.0,610.0,740.0,150.0,0.0,230.0,430.0,100.0,210.0,500.0,590.0,1070.0,740.0,780.0,780.0,650.0,1230.0,720.0,600.0,540.0,830.0,610.0,510.0,450.0,520.0,1200.0,320.0,230.0,0.0,110.0,0.0,0.0,310.0,490.0,1000.0,1210.0,1040.0,710.0,670.0,610.0,680.0,1000.0,620.0,580.0,880.0,650.0,660.0,720.0,870.0],\"type\":\"scatter\"},{\"line\":{\"color\":\"rgba(0,0,30,0.5)\"},\"mode\":\"lines\",\"name\":\"Test\",\"x\":[\"2022-01-17T06:00:00\",\"2022-01-17T07:00:00\",\"2022-01-17T08:00:00\",\"2022-01-17T09:00:00\",\"2022-01-17T10:00:00\",\"2022-01-17T11:00:00\",\"2022-01-17T12:00:00\",\"2022-01-17T13:00:00\",\"2022-01-17T14:00:00\",\"2022-01-17T15:00:00\",\"2022-01-17T16:00:00\",\"2022-01-17T17:00:00\",\"2022-01-17T18:00:00\",\"2022-01-17T19:00:00\",\"2022-01-17T20:00:00\",\"2022-01-17T21:00:00\",\"2022-01-17T22:00:00\",\"2022-01-17T23:00:00\",\"2022-01-18T00:00:00\",\"2022-01-18T01:00:00\",\"2022-01-18T02:00:00\",\"2022-01-18T03:00:00\",\"2022-01-18T04:00:00\",\"2022-01-18T05:00:00\",\"2022-01-18T06:00:00\",\"2022-01-18T07:00:00\",\"2022-01-18T08:00:00\",\"2022-01-18T09:00:00\",\"2022-01-18T10:00:00\",\"2022-01-18T11:00:00\",\"2022-01-18T12:00:00\",\"2022-01-18T13:00:00\",\"2022-01-18T14:00:00\",\"2022-01-18T15:00:00\",\"2022-01-18T16:00:00\",\"2022-01-18T17:00:00\",\"2022-01-18T18:00:00\",\"2022-01-18T19:00:00\",\"2022-01-18T20:00:00\",\"2022-01-18T21:00:00\",\"2022-01-18T22:00:00\",\"2022-01-18T23:00:00\",\"2022-01-19T00:00:00\",\"2022-01-19T01:00:00\",\"2022-01-19T02:00:00\",\"2022-01-19T03:00:00\",\"2022-01-19T04:00:00\",\"2022-01-19T05:00:00\",\"2022-01-19T06:00:00\",\"2022-01-19T07:00:00\",\"2022-01-19T08:00:00\",\"2022-01-19T09:00:00\",\"2022-01-19T10:00:00\",\"2022-01-19T11:00:00\",\"2022-01-19T12:00:00\",\"2022-01-19T13:00:00\",\"2022-01-19T14:00:00\",\"2022-01-19T15:00:00\",\"2022-01-19T16:00:00\",\"2022-01-19T17:00:00\",\"2022-01-19T18:00:00\",\"2022-01-19T19:00:00\",\"2022-01-19T20:00:00\",\"2022-01-19T21:00:00\",\"2022-01-19T22:00:00\",\"2022-01-19T23:00:00\",\"2022-01-20T00:00:00\",\"2022-01-20T01:00:00\",\"2022-01-20T02:00:00\",\"2022-01-20T03:00:00\",\"2022-01-20T04:00:00\",\"2022-01-20T05:00:00\",\"2022-01-20T06:00:00\",\"2022-01-20T07:00:00\",\"2022-01-20T08:00:00\",\"2022-01-20T09:00:00\",\"2022-01-20T10:00:00\",\"2022-01-20T11:00:00\",\"2022-01-20T12:00:00\",\"2022-01-20T13:00:00\",\"2022-01-20T14:00:00\",\"2022-01-20T15:00:00\",\"2022-01-20T16:00:00\",\"2022-01-20T17:00:00\",\"2022-01-20T18:00:00\",\"2022-01-20T19:00:00\",\"2022-01-20T20:00:00\",\"2022-01-20T21:00:00\",\"2022-01-20T22:00:00\",\"2022-01-20T23:00:00\",\"2022-01-21T00:00:00\",\"2022-01-21T01:00:00\",\"2022-01-21T02:00:00\",\"2022-01-21T03:00:00\",\"2022-01-21T04:00:00\",\"2022-01-21T05:00:00\",\"2022-01-21T06:00:00\",\"2022-01-21T07:00:00\",\"2022-01-21T08:00:00\",\"2022-01-21T09:00:00\",\"2022-01-21T10:00:00\",\"2022-01-21T11:00:00\",\"2022-01-21T12:00:00\",\"2022-01-21T13:00:00\",\"2022-01-21T14:00:00\",\"2022-01-21T15:00:00\",\"2022-01-21T16:00:00\",\"2022-01-21T17:00:00\",\"2022-01-21T18:00:00\",\"2022-01-21T19:00:00\",\"2022-01-21T20:00:00\"],\"y\":[870.0,670.0,450.0,0.0,0.0,0.0,70.0,0.0,320.0,350.0,1010.0,2170.0,1120.0,1640.0,620.0,950.0,660.0,1000.0,580.0,770.0,590.0,560.0,610.0,850.0,650.0,660.0,450.0,0.0,90.0,0.0,70.0,30.0,150.0,470.0,950.0,1150.0,910.0,670.0,630.0,610.0,870.0,590.0,540.0,530.0,830.0,650.0,860.0,600.0,620.0,640.0,780.0,270.0,0.0,0.0,0.0,90.0,490.0,750.0,560.0,900.0,1340.0,640.0,630.0,630.0,490.0,760.0,470.0,540.0,540.0,810.0,580.0,1180.0,560.0,570.0,890.0,650.0,620.0,910.0,210.0,230.0,80.0,940.0,930.0,1470.0,820.0,770.0,700.0,900.0,850.0,660.0,600.0,670.0,840.0,600.0,700.0,650.0,980.0,540.0,400.0,10.0,110.0,0.0,0.0,150.0,110.0,220.0,910.0,1280.0,1170.0,800.0,210.0],\"type\":\"scatter\"},{\"line\":{\"color\":\"red\",\"dash\":\"dot\",\"width\":3},\"mode\":\"lines\",\"name\":\"Prediction\",\"x\":[\"2022-01-17T06:00:00\",\"2022-01-17T07:00:00\",\"2022-01-17T08:00:00\",\"2022-01-17T09:00:00\",\"2022-01-17T10:00:00\",\"2022-01-17T11:00:00\",\"2022-01-17T12:00:00\",\"2022-01-17T13:00:00\",\"2022-01-17T14:00:00\",\"2022-01-17T15:00:00\",\"2022-01-17T16:00:00\",\"2022-01-17T17:00:00\",\"2022-01-17T18:00:00\",\"2022-01-17T19:00:00\",\"2022-01-17T20:00:00\",\"2022-01-17T21:00:00\",\"2022-01-17T22:00:00\",\"2022-01-17T23:00:00\",\"2022-01-18T00:00:00\",\"2022-01-18T01:00:00\",\"2022-01-18T02:00:00\",\"2022-01-18T03:00:00\",\"2022-01-18T04:00:00\",\"2022-01-18T05:00:00\",\"2022-01-18T06:00:00\",\"2022-01-18T07:00:00\",\"2022-01-18T08:00:00\",\"2022-01-18T09:00:00\",\"2022-01-18T10:00:00\",\"2022-01-18T11:00:00\",\"2022-01-18T12:00:00\",\"2022-01-18T13:00:00\",\"2022-01-18T14:00:00\",\"2022-01-18T15:00:00\",\"2022-01-18T16:00:00\",\"2022-01-18T17:00:00\",\"2022-01-18T18:00:00\",\"2022-01-18T19:00:00\",\"2022-01-18T20:00:00\",\"2022-01-18T21:00:00\",\"2022-01-18T22:00:00\",\"2022-01-18T23:00:00\",\"2022-01-19T00:00:00\",\"2022-01-19T01:00:00\",\"2022-01-19T02:00:00\",\"2022-01-19T03:00:00\",\"2022-01-19T04:00:00\",\"2022-01-19T05:00:00\",\"2022-01-19T06:00:00\",\"2022-01-19T07:00:00\",\"2022-01-19T08:00:00\",\"2022-01-19T09:00:00\",\"2022-01-19T10:00:00\",\"2022-01-19T11:00:00\",\"2022-01-19T12:00:00\",\"2022-01-19T13:00:00\",\"2022-01-19T14:00:00\",\"2022-01-19T15:00:00\",\"2022-01-19T16:00:00\",\"2022-01-19T17:00:00\",\"2022-01-19T18:00:00\",\"2022-01-19T19:00:00\",\"2022-01-19T20:00:00\",\"2022-01-19T21:00:00\",\"2022-01-19T22:00:00\",\"2022-01-19T23:00:00\",\"2022-01-20T00:00:00\",\"2022-01-20T01:00:00\",\"2022-01-20T02:00:00\",\"2022-01-20T03:00:00\",\"2022-01-20T04:00:00\",\"2022-01-20T05:00:00\",\"2022-01-20T06:00:00\",\"2022-01-20T07:00:00\",\"2022-01-20T08:00:00\",\"2022-01-20T09:00:00\",\"2022-01-20T10:00:00\",\"2022-01-20T11:00:00\",\"2022-01-20T12:00:00\",\"2022-01-20T13:00:00\",\"2022-01-20T14:00:00\",\"2022-01-20T15:00:00\",\"2022-01-20T16:00:00\",\"2022-01-20T17:00:00\",\"2022-01-20T18:00:00\",\"2022-01-20T19:00:00\",\"2022-01-20T20:00:00\",\"2022-01-20T21:00:00\",\"2022-01-20T22:00:00\",\"2022-01-20T23:00:00\",\"2022-01-21T00:00:00\",\"2022-01-21T01:00:00\",\"2022-01-21T02:00:00\",\"2022-01-21T03:00:00\",\"2022-01-21T04:00:00\",\"2022-01-21T05:00:00\",\"2022-01-21T06:00:00\",\"2022-01-21T07:00:00\",\"2022-01-21T08:00:00\",\"2022-01-21T09:00:00\",\"2022-01-21T10:00:00\",\"2022-01-21T11:00:00\",\"2022-01-21T12:00:00\",\"2022-01-21T13:00:00\",\"2022-01-21T14:00:00\",\"2022-01-21T15:00:00\",\"2022-01-21T16:00:00\",\"2022-01-21T17:00:00\",\"2022-01-21T18:00:00\",\"2022-01-21T19:00:00\",\"2022-01-21T20:00:00\"],\"y\":[734.5334669354054,759.8828282366662,636.8699298458895,479.20595645239973,219.3802598144019,153.0579012157742,215.99946055054397,253.14246570853558,230.71499428464764,375.397675365474,468.67043502304097,781.6390598599478,1613.8597720327132,1109.3764065742719,1003.8374350749184,753.8420096229052,577.641802810258,695.6615749341036,741.5957119884164,663.8707209734567,588.9740449735,622.4410286866391,524.2860518664023,575.462063277984,720.6911698210521,670.8261233591052,579.169491197293,508.3611101352565,212.65985262482832,179.53318224542863,239.91113326543666,235.95726352672915,250.33959279123792,289.8445670708955,497.7897388465782,818.3046100846207,995.0490082559912,820.2027636089756,586.8593716245093,551.0059656409496,577.4361107779827,721.4563787485033,640.9905204102687,490.6047523750406,526.9341130656716,697.5121426922543,678.8457074044732,688.4765660804514,637.6704340475844,539.4092153091514,606.3661936973895,684.201352407302,440.66383685132246,132.502050933911,162.58567220967052,215.99241347534564,265.19359214406103,507.43734059534546,735.5139357772043,614.7680105812525,702.3025484175872,1074.6031836310046,726.2509818748396,464.06394631812,594.9641744699753,519.7886932960911,634.2643194635941,567.7121761420494,484.67309122910694,555.1186322820645,690.5072448217302,630.490235092641,850.9184755777719,711.1744463933319,444.46169281646655,735.3424038704218,684.1521806908015,552.3986451203932,743.1714482936421,447.76463341191345,234.43576559662853,278.47981588269124,693.8105234105852,930.2658819532652,1073.0752902026213,861.3798574872488,563.3958354748036,636.2366023182851,736.4847400110401,773.2672995549794,621.3555469437072,550.4977421110893,607.8821674326846,728.8153484582003,629.409056827713,592.1763596178585,633.9762086805342,782.4244771613253,638.0717684452834,390.5382901946863,221.92671997100894,203.04502046992485,242.222692659324,195.15444085549922,297.192791206768,313.5861784298676,334.6145025597433,745.4780407745392,1109.6160735344627,1006.5023759880053,699.2801224008539],\"type\":\"scatter\"},{\"fill\":\"toself\",\"fillcolor\":\"rgba(0,0,30,0.1)\",\"hoverinfo\":\"skip\",\"line\":{\"color\":\"rgba(0,0,0,0)\"},\"showlegend\":false,\"x\":[\"2022-01-17T06:00:00\",\"2022-01-17T07:00:00\",\"2022-01-17T08:00:00\",\"2022-01-17T09:00:00\",\"2022-01-17T10:00:00\",\"2022-01-17T11:00:00\",\"2022-01-17T12:00:00\",\"2022-01-17T13:00:00\",\"2022-01-17T14:00:00\",\"2022-01-17T15:00:00\",\"2022-01-17T16:00:00\",\"2022-01-17T17:00:00\",\"2022-01-17T18:00:00\",\"2022-01-17T19:00:00\",\"2022-01-17T20:00:00\",\"2022-01-17T21:00:00\",\"2022-01-17T22:00:00\",\"2022-01-17T23:00:00\",\"2022-01-18T00:00:00\",\"2022-01-18T01:00:00\",\"2022-01-18T02:00:00\",\"2022-01-18T03:00:00\",\"2022-01-18T04:00:00\",\"2022-01-18T05:00:00\",\"2022-01-18T06:00:00\",\"2022-01-18T07:00:00\",\"2022-01-18T08:00:00\",\"2022-01-18T09:00:00\",\"2022-01-18T10:00:00\",\"2022-01-18T11:00:00\",\"2022-01-18T12:00:00\",\"2022-01-18T13:00:00\",\"2022-01-18T14:00:00\",\"2022-01-18T15:00:00\",\"2022-01-18T16:00:00\",\"2022-01-18T17:00:00\",\"2022-01-18T18:00:00\",\"2022-01-18T19:00:00\",\"2022-01-18T20:00:00\",\"2022-01-18T21:00:00\",\"2022-01-18T22:00:00\",\"2022-01-18T23:00:00\",\"2022-01-19T00:00:00\",\"2022-01-19T01:00:00\",\"2022-01-19T02:00:00\",\"2022-01-19T03:00:00\",\"2022-01-19T04:00:00\",\"2022-01-19T05:00:00\",\"2022-01-19T06:00:00\",\"2022-01-19T07:00:00\",\"2022-01-19T08:00:00\",\"2022-01-19T09:00:00\",\"2022-01-19T10:00:00\",\"2022-01-19T11:00:00\",\"2022-01-19T12:00:00\",\"2022-01-19T13:00:00\",\"2022-01-19T14:00:00\",\"2022-01-19T15:00:00\",\"2022-01-19T16:00:00\",\"2022-01-19T17:00:00\",\"2022-01-19T18:00:00\",\"2022-01-19T19:00:00\",\"2022-01-19T20:00:00\",\"2022-01-19T21:00:00\",\"2022-01-19T22:00:00\",\"2022-01-19T23:00:00\",\"2022-01-20T00:00:00\",\"2022-01-20T01:00:00\",\"2022-01-20T02:00:00\",\"2022-01-20T03:00:00\",\"2022-01-20T04:00:00\",\"2022-01-20T05:00:00\",\"2022-01-20T06:00:00\",\"2022-01-20T07:00:00\",\"2022-01-20T08:00:00\",\"2022-01-20T09:00:00\",\"2022-01-20T10:00:00\",\"2022-01-20T11:00:00\",\"2022-01-20T12:00:00\",\"2022-01-20T13:00:00\",\"2022-01-20T14:00:00\",\"2022-01-20T15:00:00\",\"2022-01-20T16:00:00\",\"2022-01-20T17:00:00\",\"2022-01-20T18:00:00\",\"2022-01-20T19:00:00\",\"2022-01-20T20:00:00\",\"2022-01-20T21:00:00\",\"2022-01-20T22:00:00\",\"2022-01-20T23:00:00\",\"2022-01-21T00:00:00\",\"2022-01-21T01:00:00\",\"2022-01-21T02:00:00\",\"2022-01-21T03:00:00\",\"2022-01-21T04:00:00\",\"2022-01-21T05:00:00\",\"2022-01-21T06:00:00\",\"2022-01-21T07:00:00\",\"2022-01-21T08:00:00\",\"2022-01-21T09:00:00\",\"2022-01-21T10:00:00\",\"2022-01-21T11:00:00\",\"2022-01-21T12:00:00\",\"2022-01-21T13:00:00\",\"2022-01-21T14:00:00\",\"2022-01-21T15:00:00\",\"2022-01-21T16:00:00\",\"2022-01-21T17:00:00\",\"2022-01-21T18:00:00\",\"2022-01-21T19:00:00\",\"2022-01-21T20:00:00\",\"2022-01-21T20:00:00\",\"2022-01-21T19:00:00\",\"2022-01-21T18:00:00\",\"2022-01-21T17:00:00\",\"2022-01-21T16:00:00\",\"2022-01-21T15:00:00\",\"2022-01-21T14:00:00\",\"2022-01-21T13:00:00\",\"2022-01-21T12:00:00\",\"2022-01-21T11:00:00\",\"2022-01-21T10:00:00\",\"2022-01-21T09:00:00\",\"2022-01-21T08:00:00\",\"2022-01-21T07:00:00\",\"2022-01-21T06:00:00\",\"2022-01-21T05:00:00\",\"2022-01-21T04:00:00\",\"2022-01-21T03:00:00\",\"2022-01-21T02:00:00\",\"2022-01-21T01:00:00\",\"2022-01-21T00:00:00\",\"2022-01-20T23:00:00\",\"2022-01-20T22:00:00\",\"2022-01-20T21:00:00\",\"2022-01-20T20:00:00\",\"2022-01-20T19:00:00\",\"2022-01-20T18:00:00\",\"2022-01-20T17:00:00\",\"2022-01-20T16:00:00\",\"2022-01-20T15:00:00\",\"2022-01-20T14:00:00\",\"2022-01-20T13:00:00\",\"2022-01-20T12:00:00\",\"2022-01-20T11:00:00\",\"2022-01-20T10:00:00\",\"2022-01-20T09:00:00\",\"2022-01-20T08:00:00\",\"2022-01-20T07:00:00\",\"2022-01-20T06:00:00\",\"2022-01-20T05:00:00\",\"2022-01-20T04:00:00\",\"2022-01-20T03:00:00\",\"2022-01-20T02:00:00\",\"2022-01-20T01:00:00\",\"2022-01-20T00:00:00\",\"2022-01-19T23:00:00\",\"2022-01-19T22:00:00\",\"2022-01-19T21:00:00\",\"2022-01-19T20:00:00\",\"2022-01-19T19:00:00\",\"2022-01-19T18:00:00\",\"2022-01-19T17:00:00\",\"2022-01-19T16:00:00\",\"2022-01-19T15:00:00\",\"2022-01-19T14:00:00\",\"2022-01-19T13:00:00\",\"2022-01-19T12:00:00\",\"2022-01-19T11:00:00\",\"2022-01-19T10:00:00\",\"2022-01-19T09:00:00\",\"2022-01-19T08:00:00\",\"2022-01-19T07:00:00\",\"2022-01-19T06:00:00\",\"2022-01-19T05:00:00\",\"2022-01-19T04:00:00\",\"2022-01-19T03:00:00\",\"2022-01-19T02:00:00\",\"2022-01-19T01:00:00\",\"2022-01-19T00:00:00\",\"2022-01-18T23:00:00\",\"2022-01-18T22:00:00\",\"2022-01-18T21:00:00\",\"2022-01-18T20:00:00\",\"2022-01-18T19:00:00\",\"2022-01-18T18:00:00\",\"2022-01-18T17:00:00\",\"2022-01-18T16:00:00\",\"2022-01-18T15:00:00\",\"2022-01-18T14:00:00\",\"2022-01-18T13:00:00\",\"2022-01-18T12:00:00\",\"2022-01-18T11:00:00\",\"2022-01-18T10:00:00\",\"2022-01-18T09:00:00\",\"2022-01-18T08:00:00\",\"2022-01-18T07:00:00\",\"2022-01-18T06:00:00\",\"2022-01-18T05:00:00\",\"2022-01-18T04:00:00\",\"2022-01-18T03:00:00\",\"2022-01-18T02:00:00\",\"2022-01-18T01:00:00\",\"2022-01-18T00:00:00\",\"2022-01-17T23:00:00\",\"2022-01-17T22:00:00\",\"2022-01-17T21:00:00\",\"2022-01-17T20:00:00\",\"2022-01-17T19:00:00\",\"2022-01-17T18:00:00\",\"2022-01-17T17:00:00\",\"2022-01-17T16:00:00\",\"2022-01-17T15:00:00\",\"2022-01-17T14:00:00\",\"2022-01-17T13:00:00\",\"2022-01-17T12:00:00\",\"2022-01-17T11:00:00\",\"2022-01-17T10:00:00\",\"2022-01-17T09:00:00\",\"2022-01-17T08:00:00\",\"2022-01-17T07:00:00\",\"2022-01-17T06:00:00\"],\"y\":[1225.1109812844998,1250.4603653080153,1127.4473763173162,969.7832116169463,709.9576972641893,643.6355158396876,706.5771507048644,743.7201540026074,721.2926743791796,865.9752988092905,959.247809171265,1272.2166513711777,2104.4420904968188,1599.9627746777392,1494.4280472576,1244.4396758888593,1068.2439111668812,1186.2829553994707,1232.2206204576935,1154.5237101811076,1079.6309936523205,1113.1537497440618,1015.0066375203023,1066.1904086881352,1211.436257715579,1161.5792860671947,1069.9692436683015,999.1739632563127,703.4771298817811,670.35814789563,730.7428830099063,726.7999690967897,741.1871856918794,780.7089836709936,988.6608943423985,1309.1797473283607,1485.9348354121312,1311.0949862758996,1077.7552849958056,1041.9072305570471,1068.3438686577515,1212.4189122137457,1131.9630172264478,981.5819257520959,1017.9166581382561,1188.5006760339907,1169.8540303960212,1179.487166348944,1128.7152716598446,1030.4616908951418,1097.4216257097264,1175.2816073377708,931.7484688242077,623.5897033402465,653.6776390835494,707.0894887559995,756.3052265323605,998.5520411937753,1226.6320875920912,1105.8940267950516,1193.4330659358857,1565.7367435146434,1217.3885778013776,955.2055028653206,1086.113138888647,1011.0023469091354,1125.481571487259,1058.9763692414447,975.9432235376123,1046.395767155051,1181.795781897889,1121.7824260639625,1342.212818187023,1202.4722221319805,935.7637130445198,1226.6494573984828,1175.4913925235417,1043.7434271542465,1234.518433395362,939.1499354622761,725.8256421774109,769.8788060883301,1185.2141703025916,1421.6748232488062,1564.4882381658997,1352.8511749347983,1054.8741026832795,1127.7210073209399,1227.9914233760665,1264.788840175525,1112.8859165189817,1042.0485566839743,1099.4369242143111,1220.3775836092739,1120.991244056622,1083.7997821122115,1125.6242620394103,1274.1410401737976,1129.7920844645057,882.2621116439648,713.6564575377894,694.781032237491,733.9648745876553,686.9053942146463,788.9601367621932,805.3743271721303,826.4091743271031,1237.2765001869739,1601.4230900228513,1498.314579270614,1191.1042343688314,207.45601043287633,514.6901727053964,617.8090570460741,253.6795813621045,-157.18016920761647,-178.2019703123952,-194.57455434865722,-296.5965125036479,-249.51948926900738,-288.69099129764123,-269.8030175957715,-101.18553125459215,146.3514524260611,290.7079141488531,142.32815532165824,100.55293712350539,137.82686959880402,237.25311330712685,116.32741065105807,58.94692753820436,129.82517736843266,281.7457589344339,244.97805664601367,144.75219731563044,71.91756826632763,369.9085400396993,581.6623422393429,438.8569406577243,202.40687651857888,-212.91917432294753,-256.9541109841539,-43.620668638449104,251.82446319192212,61.05386308653982,192.81296885806142,244.03535034236086,-46.84032741158677,219.87667065468332,359.62413296852094,139.19804412131958,199.21870774557146,63.841497409077874,-6.597041079398423,76.44798304265413,143.0470674399291,28.57503968304667,103.81521005130378,-27.077610229080676,235.11338594830153,583.4696237473657,211.17203089928887,123.64199436745355,244.39578396231747,16.322639996915655,-225.91804224423845,-275.1046618053082,-328.5062946642084,-358.5856014724245,-50.420795121562776,193.1210974768332,115.31076168505251,48.356739723160956,146.6255964353242,197.465965811959,187.83738441292513,206.52360935051803,35.951567993087,-0.37242100201467565,150.01802359408947,230.493845283261,86.52835289821394,60.10470072485202,95.96345825321305,329.3105409420516,504.16318109985133,327.42947284088063,6.918583350757899,-201.01984952920265,-240.50800010940367,-254.88544204333147,-250.92061647903296,-311.2917834047728,-278.15742463212445,17.548257014200317,88.3697387262846,180.07296065101565,229.9460819265252,84.73371786783287,33.56546621250237,131.72830762921643,98.31709629467946,173.21773176580575,250.97080351913922,205.04019446873644,87.03969445363487,263.24434335695094,513.2468228922369,618.7900384708045,1123.2774535686076,291.0614683487179,-21.906939125183044,-115.17994807834253,-259.8626858098843,-237.43522258553625,-274.57822960377644,-337.5197134081392,-271.1971776353855,-11.371298712146881,146.29248337446285,269.30529116531727,243.95595258631113],\"type\":\"scatter\"}],                        {\"template\":{\"data\":{\"bar\":[{\"error_x\":{\"color\":\"#2a3f5f\"},\"error_y\":{\"color\":\"#2a3f5f\"},\"marker\":{\"line\":{\"color\":\"#E5ECF6\",\"width\":0.5},\"pattern\":{\"fillmode\":\"overlay\",\"size\":10,\"solidity\":0.2}},\"type\":\"bar\"}],\"barpolar\":[{\"marker\":{\"line\":{\"color\":\"#E5ECF6\",\"width\":0.5},\"pattern\":{\"fillmode\":\"overlay\",\"size\":10,\"solidity\":0.2}},\"type\":\"barpolar\"}],\"carpet\":[{\"aaxis\":{\"endlinecolor\":\"#2a3f5f\",\"gridcolor\":\"white\",\"linecolor\":\"white\",\"minorgridcolor\":\"white\",\"startlinecolor\":\"#2a3f5f\"},\"baxis\":{\"endlinecolor\":\"#2a3f5f\",\"gridcolor\":\"white\",\"linecolor\":\"white\",\"minorgridcolor\":\"white\",\"startlinecolor\":\"#2a3f5f\"},\"type\":\"carpet\"}],\"choropleth\":[{\"colorbar\":{\"outlinewidth\":0,\"ticks\":\"\"},\"type\":\"choropleth\"}],\"contour\":[{\"colorbar\":{\"outlinewidth\":0,\"ticks\":\"\"},\"colorscale\":[[0.0,\"#0d0887\"],[0.1111111111111111,\"#46039f\"],[0.2222222222222222,\"#7201a8\"],[0.3333333333333333,\"#9c179e\"],[0.4444444444444444,\"#bd3786\"],[0.5555555555555556,\"#d8576b\"],[0.6666666666666666,\"#ed7953\"],[0.7777777777777778,\"#fb9f3a\"],[0.8888888888888888,\"#fdca26\"],[1.0,\"#f0f921\"]],\"type\":\"contour\"}],\"contourcarpet\":[{\"colorbar\":{\"outlinewidth\":0,\"ticks\":\"\"},\"type\":\"contourcarpet\"}],\"heatmap\":[{\"colorbar\":{\"outlinewidth\":0,\"ticks\":\"\"},\"colorscale\":[[0.0,\"#0d0887\"],[0.1111111111111111,\"#46039f\"],[0.2222222222222222,\"#7201a8\"],[0.3333333333333333,\"#9c179e\"],[0.4444444444444444,\"#bd3786\"],[0.5555555555555556,\"#d8576b\"],[0.6666666666666666,\"#ed7953\"],[0.7777777777777778,\"#fb9f3a\"],[0.8888888888888888,\"#fdca26\"],[1.0,\"#f0f921\"]],\"type\":\"heatmap\"}],\"heatmapgl\":[{\"colorbar\":{\"outlinewidth\":0,\"ticks\":\"\"},\"colorscale\":[[0.0,\"#0d0887\"],[0.1111111111111111,\"#46039f\"],[0.2222222222222222,\"#7201a8\"],[0.3333333333333333,\"#9c179e\"],[0.4444444444444444,\"#bd3786\"],[0.5555555555555556,\"#d8576b\"],[0.6666666666666666,\"#ed7953\"],[0.7777777777777778,\"#fb9f3a\"],[0.8888888888888888,\"#fdca26\"],[1.0,\"#f0f921\"]],\"type\":\"heatmapgl\"}],\"histogram\":[{\"marker\":{\"pattern\":{\"fillmode\":\"overlay\",\"size\":10,\"solidity\":0.2}},\"type\":\"histogram\"}],\"histogram2d\":[{\"colorbar\":{\"outlinewidth\":0,\"ticks\":\"\"},\"colorscale\":[[0.0,\"#0d0887\"],[0.1111111111111111,\"#46039f\"],[0.2222222222222222,\"#7201a8\"],[0.3333333333333333,\"#9c179e\"],[0.4444444444444444,\"#bd3786\"],[0.5555555555555556,\"#d8576b\"],[0.6666666666666666,\"#ed7953\"],[0.7777777777777778,\"#fb9f3a\"],[0.8888888888888888,\"#fdca26\"],[1.0,\"#f0f921\"]],\"type\":\"histogram2d\"}],\"histogram2dcontour\":[{\"colorbar\":{\"outlinewidth\":0,\"ticks\":\"\"},\"colorscale\":[[0.0,\"#0d0887\"],[0.1111111111111111,\"#46039f\"],[0.2222222222222222,\"#7201a8\"],[0.3333333333333333,\"#9c179e\"],[0.4444444444444444,\"#bd3786\"],[0.5555555555555556,\"#d8576b\"],[0.6666666666666666,\"#ed7953\"],[0.7777777777777778,\"#fb9f3a\"],[0.8888888888888888,\"#fdca26\"],[1.0,\"#f0f921\"]],\"type\":\"histogram2dcontour\"}],\"mesh3d\":[{\"colorbar\":{\"outlinewidth\":0,\"ticks\":\"\"},\"type\":\"mesh3d\"}],\"parcoords\":[{\"line\":{\"colorbar\":{\"outlinewidth\":0,\"ticks\":\"\"}},\"type\":\"parcoords\"}],\"pie\":[{\"automargin\":true,\"type\":\"pie\"}],\"scatter\":[{\"marker\":{\"colorbar\":{\"outlinewidth\":0,\"ticks\":\"\"}},\"type\":\"scatter\"}],\"scatter3d\":[{\"line\":{\"colorbar\":{\"outlinewidth\":0,\"ticks\":\"\"}},\"marker\":{\"colorbar\":{\"outlinewidth\":0,\"ticks\":\"\"}},\"type\":\"scatter3d\"}],\"scattercarpet\":[{\"marker\":{\"colorbar\":{\"outlinewidth\":0,\"ticks\":\"\"}},\"type\":\"scattercarpet\"}],\"scattergeo\":[{\"marker\":{\"colorbar\":{\"outlinewidth\":0,\"ticks\":\"\"}},\"type\":\"scattergeo\"}],\"scattergl\":[{\"marker\":{\"colorbar\":{\"outlinewidth\":0,\"ticks\":\"\"}},\"type\":\"scattergl\"}],\"scattermapbox\":[{\"marker\":{\"colorbar\":{\"outlinewidth\":0,\"ticks\":\"\"}},\"type\":\"scattermapbox\"}],\"scatterpolar\":[{\"marker\":{\"colorbar\":{\"outlinewidth\":0,\"ticks\":\"\"}},\"type\":\"scatterpolar\"}],\"scatterpolargl\":[{\"marker\":{\"colorbar\":{\"outlinewidth\":0,\"ticks\":\"\"}},\"type\":\"scatterpolargl\"}],\"scatterternary\":[{\"marker\":{\"colorbar\":{\"outlinewidth\":0,\"ticks\":\"\"}},\"type\":\"scatterternary\"}],\"surface\":[{\"colorbar\":{\"outlinewidth\":0,\"ticks\":\"\"},\"colorscale\":[[0.0,\"#0d0887\"],[0.1111111111111111,\"#46039f\"],[0.2222222222222222,\"#7201a8\"],[0.3333333333333333,\"#9c179e\"],[0.4444444444444444,\"#bd3786\"],[0.5555555555555556,\"#d8576b\"],[0.6666666666666666,\"#ed7953\"],[0.7777777777777778,\"#fb9f3a\"],[0.8888888888888888,\"#fdca26\"],[1.0,\"#f0f921\"]],\"type\":\"surface\"}],\"table\":[{\"cells\":{\"fill\":{\"color\":\"#EBF0F8\"},\"line\":{\"color\":\"white\"}},\"header\":{\"fill\":{\"color\":\"#C8D4E3\"},\"line\":{\"color\":\"white\"}},\"type\":\"table\"}]},\"layout\":{\"annotationdefaults\":{\"arrowcolor\":\"#2a3f5f\",\"arrowhead\":0,\"arrowwidth\":1},\"autotypenumbers\":\"strict\",\"coloraxis\":{\"colorbar\":{\"outlinewidth\":0,\"ticks\":\"\"}},\"colorscale\":{\"diverging\":[[0,\"#8e0152\"],[0.1,\"#c51b7d\"],[0.2,\"#de77ae\"],[0.3,\"#f1b6da\"],[0.4,\"#fde0ef\"],[0.5,\"#f7f7f7\"],[0.6,\"#e6f5d0\"],[0.7,\"#b8e186\"],[0.8,\"#7fbc41\"],[0.9,\"#4d9221\"],[1,\"#276419\"]],\"sequential\":[[0.0,\"#0d0887\"],[0.1111111111111111,\"#46039f\"],[0.2222222222222222,\"#7201a8\"],[0.3333333333333333,\"#9c179e\"],[0.4444444444444444,\"#bd3786\"],[0.5555555555555556,\"#d8576b\"],[0.6666666666666666,\"#ed7953\"],[0.7777777777777778,\"#fb9f3a\"],[0.8888888888888888,\"#fdca26\"],[1.0,\"#f0f921\"]],\"sequentialminus\":[[0.0,\"#0d0887\"],[0.1111111111111111,\"#46039f\"],[0.2222222222222222,\"#7201a8\"],[0.3333333333333333,\"#9c179e\"],[0.4444444444444444,\"#bd3786\"],[0.5555555555555556,\"#d8576b\"],[0.6666666666666666,\"#ed7953\"],[0.7777777777777778,\"#fb9f3a\"],[0.8888888888888888,\"#fdca26\"],[1.0,\"#f0f921\"]]},\"colorway\":[\"#636efa\",\"#EF553B\",\"#00cc96\",\"#ab63fa\",\"#FFA15A\",\"#19d3f3\",\"#FF6692\",\"#B6E880\",\"#FF97FF\",\"#FECB52\"],\"font\":{\"color\":\"#2a3f5f\"},\"geo\":{\"bgcolor\":\"white\",\"lakecolor\":\"white\",\"landcolor\":\"#E5ECF6\",\"showlakes\":true,\"showland\":true,\"subunitcolor\":\"white\"},\"hoverlabel\":{\"align\":\"left\"},\"hovermode\":\"closest\",\"mapbox\":{\"style\":\"light\"},\"paper_bgcolor\":\"white\",\"plot_bgcolor\":\"#E5ECF6\",\"polar\":{\"angularaxis\":{\"gridcolor\":\"white\",\"linecolor\":\"white\",\"ticks\":\"\"},\"bgcolor\":\"#E5ECF6\",\"radialaxis\":{\"gridcolor\":\"white\",\"linecolor\":\"white\",\"ticks\":\"\"}},\"scene\":{\"xaxis\":{\"backgroundcolor\":\"#E5ECF6\",\"gridcolor\":\"white\",\"gridwidth\":2,\"linecolor\":\"white\",\"showbackground\":true,\"ticks\":\"\",\"zerolinecolor\":\"white\"},\"yaxis\":{\"backgroundcolor\":\"#E5ECF6\",\"gridcolor\":\"white\",\"gridwidth\":2,\"linecolor\":\"white\",\"showbackground\":true,\"ticks\":\"\",\"zerolinecolor\":\"white\"},\"zaxis\":{\"backgroundcolor\":\"#E5ECF6\",\"gridcolor\":\"white\",\"gridwidth\":2,\"linecolor\":\"white\",\"showbackground\":true,\"ticks\":\"\",\"zerolinecolor\":\"white\"}},\"shapedefaults\":{\"line\":{\"color\":\"#2a3f5f\"}},\"ternary\":{\"aaxis\":{\"gridcolor\":\"white\",\"linecolor\":\"white\",\"ticks\":\"\"},\"baxis\":{\"gridcolor\":\"white\",\"linecolor\":\"white\",\"ticks\":\"\"},\"bgcolor\":\"#E5ECF6\",\"caxis\":{\"gridcolor\":\"white\",\"linecolor\":\"white\",\"ticks\":\"\"}},\"title\":{\"x\":0.05},\"xaxis\":{\"automargin\":true,\"gridcolor\":\"white\",\"linecolor\":\"white\",\"ticks\":\"\",\"title\":{\"standoff\":15},\"zerolinecolor\":\"white\",\"zerolinewidth\":2},\"yaxis\":{\"automargin\":true,\"gridcolor\":\"white\",\"linecolor\":\"white\",\"ticks\":\"\",\"title\":{\"standoff\":15},\"zerolinecolor\":\"white\",\"zerolinewidth\":2}}},\"title\":{\"text\":\"ARIMA(3,0,0)\\ubaa8\\ud615\"},\"height\":400,\"width\":1000},                        {\"responsive\": true}                    ).then(function(){\n",
       "                            \n",
       "var gd = document.getElementById('44821255-fe3c-4ba8-b254-0e5de2f8891b');\n",
       "var x = new MutationObserver(function (mutations, observer) {{\n",
       "        var display = window.getComputedStyle(gd).display;\n",
       "        if (!display || display === 'none') {{\n",
       "            console.log([gd, 'removed!']);\n",
       "            Plotly.purge(gd);\n",
       "            observer.disconnect();\n",
       "        }}\n",
       "}});\n",
       "\n",
       "// Listen for the removal of the full notebook cells\n",
       "var notebookContainer = gd.closest('#notebook-container');\n",
       "if (notebookContainer) {{\n",
       "    x.observe(notebookContainer, {childList: true});\n",
       "}}\n",
       "\n",
       "// Listen for the clearing of the current output cell\n",
       "var outputEl = gd.closest('.output');\n",
       "if (outputEl) {{\n",
       "    x.observe(outputEl, {childList: true});\n",
       "}}\n",
       "\n",
       "                        })                };                });            </script>        </div>"
      ]
     },
     "metadata": {},
     "output_type": "display_data"
    }
   ],
   "source": [
    "from plotly.subplots import make_subplots\n",
    "import plotly.graph_objects as go\n",
    "\n",
    "fig = go.Figure([\n",
    "    # 훈련 데이터-------------------------------------------------------\n",
    "    go.Scatter(x = y_train.index, y = y_train, name = \"Train\", mode = 'lines'\n",
    "              ,line=dict(color = 'royalblue'))\n",
    "    # 테스트 데이터------------------------------------------------------\n",
    "    , go.Scatter(x = y_test.index, y = y_test, name = \"Test\", mode = 'lines'\n",
    "                ,line = dict(color = 'rgba(0,0,30,0.5)'))\n",
    "    # 예측값-----------------------------------------------------------\n",
    "    , go.Scatter(x = y_test.index, y = y_pred, name = \"Prediction\", mode = 'lines'\n",
    "                     ,line = dict(color = 'red', dash = 'dot', width=3))\n",
    "    \n",
    "    # 신뢰 구간---------------------------------------------------------\n",
    "    , go.Scatter(x = y_test.index.tolist() + y_test.index[::-1].tolist() \n",
    "                ,y = pred_upper + pred_lower[::-1] ## 상위 신뢰 구간 -> 하위 신뢰 구간 역순으로\n",
    "                ,fill='toself'\n",
    "                ,fillcolor='rgba(0,0,30,0.1)'\n",
    "                ,line=dict(color='rgba(0,0,0,0)')\n",
    "                ,hoverinfo=\"skip\"\n",
    "                ,showlegend=False)\n",
    "])\n",
    "\n",
    "fig.update_layout(height=400, width=1000, title_text=\"ARIMA(3,0,0)모형\")\n",
    "fig.show()"
   ]
  },
  {
   "cell_type": "code",
   "execution_count": 23,
   "id": "29f2ebd0",
   "metadata": {},
   "outputs": [
    {
     "name": "stdout",
     "output_type": "stream",
     "text": [
      "MSE: 87874.67146660815\n",
      "RMSE: 296.43662301849304\n"
     ]
    }
   ],
   "source": [
    "from statsmodels.tools.eval_measures import rmse\n",
    "arima_rmse_error = rmse(y_test, y_pred)\n",
    "arima_mse_error = arima_rmse_error**2\n",
    "\n",
    "print(f'MSE: {arima_mse_error}\\nRMSE: {arima_rmse_error}')"
   ]
  },
  {
   "cell_type": "code",
   "execution_count": 30,
   "id": "813844d9",
   "metadata": {},
   "outputs": [],
   "source": [
    "from sklearn import metrics\n",
    "\n",
    "def scoring(y_true, y_pred):\n",
    "    r2 = round(metrics.r2_score(y_true, y_pred) * 100, 3)\n",
    "    mae = round(metrics.mean_absolute_error(y_true, y_pred), 3)\n",
    "    corr = round(np.corrcoef(y_true, y_pred)[0,1],3)\n",
    "    mape = round(metrics.mean_absolute_percentage_error(y_true, y_pred) * 100, 3)\n",
    "    rmse = round(metrics.mean_squared_error(y_true, y_pred, squared=False), 3)\n",
    "    rrmse = round(rmse / np.mean(y_true), 4)\n",
    "    \n",
    "    df = pd.DataFrame({\n",
    "        'R2': r2,\n",
    "        'MAE' : mae,\n",
    "        'Corr' : corr,\n",
    "        'RMSE' : rmse,\n",
    "        'RRMSE' : rrmse,\n",
    "        #'MAPE' : mape\n",
    "    }, index=[0])\n",
    "    return df"
   ]
  },
  {
   "cell_type": "code",
   "execution_count": 31,
   "id": "6319c969",
   "metadata": {},
   "outputs": [
    {
     "data": {
      "text/html": [
       "<div>\n",
       "<style scoped>\n",
       "    .dataframe tbody tr th:only-of-type {\n",
       "        vertical-align: middle;\n",
       "    }\n",
       "\n",
       "    .dataframe tbody tr th {\n",
       "        vertical-align: top;\n",
       "    }\n",
       "\n",
       "    .dataframe thead th {\n",
       "        text-align: right;\n",
       "    }\n",
       "</style>\n",
       "<table border=\"1\" class=\"dataframe\">\n",
       "  <thead>\n",
       "    <tr style=\"text-align: right;\">\n",
       "      <th></th>\n",
       "      <th>R2</th>\n",
       "      <th>MAE</th>\n",
       "      <th>Corr</th>\n",
       "      <th>RMSE</th>\n",
       "      <th>RRMSE</th>\n",
       "    </tr>\n",
       "  </thead>\n",
       "  <tbody>\n",
       "    <tr>\n",
       "      <th>0</th>\n",
       "      <td>41.586</td>\n",
       "      <td>225.198</td>\n",
       "      <td>0.646</td>\n",
       "      <td>296.437</td>\n",
       "      <td>0.4967</td>\n",
       "    </tr>\n",
       "  </tbody>\n",
       "</table>\n",
       "</div>"
      ],
      "text/plain": [
       "       R2      MAE   Corr     RMSE   RRMSE\n",
       "0  41.586  225.198  0.646  296.437  0.4967"
      ]
     },
     "execution_count": 31,
     "metadata": {},
     "output_type": "execute_result"
    }
   ],
   "source": [
    "scoring(y_test, y_pred)"
   ]
  },
  {
   "cell_type": "code",
   "execution_count": null,
   "id": "8454fa70",
   "metadata": {},
   "outputs": [],
   "source": []
  },
  {
   "cell_type": "code",
   "execution_count": null,
   "id": "05a3ea34",
   "metadata": {},
   "outputs": [],
   "source": []
  },
  {
   "cell_type": "code",
   "execution_count": null,
   "id": "ac2c3c94",
   "metadata": {},
   "outputs": [],
   "source": []
  },
  {
   "cell_type": "code",
   "execution_count": null,
   "id": "67541a7f",
   "metadata": {},
   "outputs": [],
   "source": []
  },
  {
   "cell_type": "code",
   "execution_count": null,
   "id": "c1f647a2",
   "metadata": {},
   "outputs": [],
   "source": []
  },
  {
   "cell_type": "code",
   "execution_count": null,
   "id": "0a45e5a6",
   "metadata": {},
   "outputs": [],
   "source": []
  }
 ],
 "metadata": {
  "kernelspec": {
   "display_name": "Python 3 (ipykernel)",
   "language": "python",
   "name": "python3"
  },
  "language_info": {
   "codemirror_mode": {
    "name": "ipython",
    "version": 3
   },
   "file_extension": ".py",
   "mimetype": "text/x-python",
   "name": "python",
   "nbconvert_exporter": "python",
   "pygments_lexer": "ipython3",
   "version": "3.10.1"
  }
 },
 "nbformat": 4,
 "nbformat_minor": 5
}
